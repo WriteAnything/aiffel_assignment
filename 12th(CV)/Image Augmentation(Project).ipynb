{
 "cells": [
  {
   "cell_type": "markdown",
   "id": "61e52fb7",
   "metadata": {},
   "source": [
    "# Project"
   ]
  },
  {
   "cell_type": "code",
   "execution_count": 1,
   "id": "56c13e6a",
   "metadata": {},
   "outputs": [],
   "source": [
    "# TensorFlow and tf.keras\n",
    "import tensorflow as tf\n",
    "from tensorflow import keras\n",
    "\n",
    "# Helper libraries\n",
    "import numpy as np\n",
    "import matplotlib.pyplot as plt\n",
    "\n",
    "import tensorflow_datasets as tfds"
   ]
  },
  {
   "cell_type": "markdown",
   "id": "140c0aa3",
   "metadata": {},
   "source": [
    "### 1. Augmentation을 적용한 데이터셋 만들기"
   ]
  },
  {
   "cell_type": "markdown",
   "id": "53b83bec",
   "metadata": {},
   "source": [
    "* 아래는 CutMix를 적용할 수 있도록 변경한 apply_normalize_on_dataset()입니다.\n",
    "* 우리가 cutmix(), mixup()을 구현하면서 label의 mix 때문에 더이상 label이 스칼라값을 가지지 못하고 One-Hot 벡터 형태로 변환되었기 때문"
   ]
  },
  {
   "cell_type": "code",
   "execution_count": 2,
   "id": "bb601a48",
   "metadata": {},
   "outputs": [],
   "source": [
    "# get_clip_box 함수 정의 그대로 사용\n",
    "def get_clip_box(image_a, image_b):\n",
    "    image_size_x = image_a.shape[1]\n",
    "    image_size_y = image_a.shape[0]\n",
    "    \n",
    "    x = tf.cast(tf.random.uniform([], 0, image_size_x), tf.int32)\n",
    "    y = tf.cast(tf.random.uniform([], 0, image_size_y), tf.int32)\n",
    "\n",
    "    width = tf.cast(image_size_x * tf.math.sqrt(1 - tf.random.uniform([], 0, 1)), tf.int32)\n",
    "    height = tf.cast(image_size_y * tf.math.sqrt(1 - tf.random.uniform([], 0, 1)), tf.int32)\n",
    "    \n",
    "    x_min = tf.math.maximum(0, x - width // 2)\n",
    "    y_min = tf.math.maximum(0, y - height // 2)\n",
    "    x_max = tf.math.minimum(image_size_x, x + width // 2)\n",
    "    y_max = tf.math.minimum(image_size_y, y + height // 2)\n",
    "    \n",
    "    return x_min, y_min, x_max, y_max\n",
    "\n",
    "# mix_2_images 함수 정의 그대로 사용\n",
    "def mix_2_images(image_a, image_b, x_min, y_min, x_max, y_max):\n",
    "    image_size_x = image_a.shape[1]\n",
    "    image_size_y = image_a.shape[0]\n",
    "    middle_left = image_a[y_min:y_max, 0:x_min, :] \n",
    "    middle_center = image_b[y_min:y_max, x_min:x_max, :]  \n",
    "    middle_right = image_a[y_min:y_max, x_max:image_size_x, :] \n",
    "    middle = tf.concat([middle_left, middle_center, middle_right], axis=1)\n",
    "    top = image_a[0:y_min, :, :]\n",
    "    bottom = image_a[y_max:image_size_y, :, :]\n",
    "    mixed_img = tf.concat([top, middle, bottom], axis=0)\n",
    "    \n",
    "    return mixed_img\n",
    "\n",
    "# mix_2_labels 함수에서 image_a와 image_b 인자 추가\n",
    "def mix_2_labels(image_a, image_b, label_a, label_b, x_min, y_min, x_max, y_max, num_classes=120):\n",
    "    image_size_x = image_a.shape[1]\n",
    "    image_size_y = image_a.shape[0]\n",
    "    mixed_area = (x_max - x_min) * (y_max - y_min)\n",
    "    total_area = image_size_x * image_size_y\n",
    "    ratio = tf.cast(mixed_area / total_area, tf.float32)\n",
    "\n",
    "    if len(label_a.shape) == 0:\n",
    "        label_a = tf.one_hot(label_a, num_classes)\n",
    "    if len(label_b.shape) == 0:\n",
    "        label_b = tf.one_hot(label_b, num_classes)\n",
    "    mixed_label = (1 - ratio) * label_a + ratio * label_b\n",
    "    return mixed_label\n",
    "\n",
    "# cutmix 함수에서 num_classes를 인자로 받아 사용\n",
    "def cutmix(image, label, batch_size=16, img_size=224, num_classes=120):\n",
    "    mixed_imgs = []\n",
    "    mixed_labels = []\n",
    "\n",
    "    for i in range(batch_size):\n",
    "        image_a = image[i]\n",
    "        label_a = label[i]\n",
    "        j = tf.cast(tf.random.uniform([], 0, batch_size), tf.int32)\n",
    "        image_b = image[j]\n",
    "        label_b = label[j]\n",
    "        x_min, y_min, x_max, y_max = get_clip_box(image_a, image_b)\n",
    "        mixed_imgs.append(mix_2_images(image_a, image_b, x_min, y_min, x_max, y_max))\n",
    "        mixed_labels.append(mix_2_labels(image_a, image_b, label_a, label_b, x_min, y_min, x_max, y_max, num_classes))\n",
    "\n",
    "    mixed_imgs = tf.reshape(tf.stack(mixed_imgs), (batch_size, img_size, img_size, 3))\n",
    "    mixed_labels = tf.reshape(tf.stack(mixed_labels), (batch_size, num_classes))\n",
    "    return mixed_imgs, mixed_labels"
   ]
  },
  {
   "cell_type": "code",
   "execution_count": 3,
   "id": "b8ce8ff6",
   "metadata": {},
   "outputs": [],
   "source": [
    "# function for mixup\n",
    "def mixup_2_images(image_a, image_b, label_a, label_b):\n",
    "    ratio = tf.random.uniform([], 0, 1)\n",
    "    \n",
    "    if len(label_a.shape)==0:\n",
    "        label_a = tf.one_hot(label_a, num_classes)\n",
    "    if len(label_b.shape)==0:\n",
    "        label_b = tf.one_hot(label_b, num_classes)\n",
    "    mixed_image= (1-ratio)*image_a + ratio*image_b\n",
    "    mixed_label = (1-ratio)*label_a + ratio*label_b\n",
    "    \n",
    "    return mixed_image, mixed_label\n",
    "\n",
    "def mixup(image, label, prob=1.0, batch_size=16, img_size=224, num_classes=120):\n",
    "    mixed_imgs = []\n",
    "    mixed_labels = []\n",
    "\n",
    "    for i in range(batch_size):\n",
    "        image_a = image[i]\n",
    "        label_a = label[i]\n",
    "        j = tf.cast(tf.random.uniform([],0,batch_size), tf.int32)\n",
    "        image_b = image[j]\n",
    "        label_b = label[j]\n",
    "        mixed_img, mixed_label = mixup_2_images(image_a, image_b, label_a, label_b)\n",
    "        mixed_imgs.append(mixed_img)\n",
    "        mixed_labels.append(mixed_label)\n",
    "\n",
    "    mixed_imgs = tf.reshape(tf.stack(mixed_imgs), (batch_size, img_size, img_size, 3))\n",
    "    mixed_labels = tf.reshape(tf.stack(mixed_labels), (batch_size, num_classes))\n",
    "    return mixed_imgs, mixed_labels"
   ]
  },
  {
   "cell_type": "code",
   "execution_count": 4,
   "id": "432e560e",
   "metadata": {},
   "outputs": [],
   "source": [
    "def normalize_and_resize_img(image, label):\n",
    "    # Normalizes images: `uint8` -> `float32`\n",
    "    image = tf.image.resize(image, [224, 224])\n",
    "    return tf.cast(image, tf.float32) / 255., label\n",
    "\n",
    "def augment(image, label):\n",
    "    image = tf.image.random_flip_left_right(image)\n",
    "    image = tf.image.random_brightness(image, max_delta=0.2)\n",
    "    image = tf.clip_by_value(image, 0, 1)\n",
    "    return image, label\n",
    "\n",
    "def onehot(image, label):\n",
    "    label = tf.one_hot(label, num_classes)\n",
    "    return image, label\n",
    "\n",
    "def apply_normalize_on_dataset(ds, is_test=False, batch_size=16, \n",
    "                               with_aug=False, with_cutmix=False, with_mixup=False):\n",
    "    ds = ds.map(\n",
    "        normalize_and_resize_img, \n",
    "        num_parallel_calls=2\n",
    "    )\n",
    "    if not is_test and with_aug:\n",
    "        ds = ds.map(\n",
    "            augment\n",
    "        )\n",
    "    ds = ds.batch(batch_size)\n",
    "    if not is_test and with_cutmix:\n",
    "        ds = ds.map(\n",
    "            cutmix,\n",
    "            num_parallel_calls=2\n",
    "        )\n",
    "    elif not is_test and with_mixup:  # 변경된 부분\n",
    "        ds = ds.map(\n",
    "            mixup,\n",
    "            num_parallel_calls=2\n",
    "        )   \n",
    "    else:\n",
    "        ds = ds.map(\n",
    "            onehot,\n",
    "            num_parallel_calls=2\n",
    "        )\n",
    "    if not is_test:\n",
    "        ds = ds.repeat()\n",
    "        ds = ds.shuffle(200)\n",
    "    ds = ds.prefetch(tf.data.experimental.AUTOTUNE)\n",
    "    return ds"
   ]
  },
  {
   "cell_type": "code",
   "execution_count": 5,
   "id": "b07766ea",
   "metadata": {},
   "outputs": [],
   "source": [
    "(ds_train, ds_test), ds_info = tfds.load(\n",
    "    'stanford_dogs',\n",
    "    split=['train', 'test'],\n",
    "    as_supervised=True,\n",
    "    shuffle_files=True,\n",
    "    with_info=True,\n",
    ")\n",
    "\n",
    "num_classes = ds_info.features[\"label\"].num_classes\n",
    "\n",
    "ds_train_no_aug = apply_normalize_on_dataset(ds_train, with_aug=False)\n",
    "ds_train_aug= apply_normalize_on_dataset(ds_train, with_aug=True)\n",
    "ds_train_aug_cutmix = apply_normalize_on_dataset(ds_train, with_aug=True, with_cutmix=True) # 변경된 부분\n",
    "ds_train_aug_mixup = apply_normalize_on_dataset(ds_train, with_aug=True, with_mixup=True) # 변경된 부분\n",
    "ds_test = apply_normalize_on_dataset(ds_test, is_test=True)"
   ]
  },
  {
   "cell_type": "markdown",
   "id": "99284c19",
   "metadata": {},
   "source": [
    "### 2. 모델 만들기\n",
    "* 앞서 만들었던 것처럼 비교 실험을 위한 모델 두 개를 만들어 주세요. 모델은 ResNet-50을 사용합시다."
   ]
  },
  {
   "cell_type": "code",
   "execution_count": 6,
   "id": "ad22867a",
   "metadata": {},
   "outputs": [
    {
     "name": "stdout",
     "output_type": "stream",
     "text": [
      "=3\n"
     ]
    }
   ],
   "source": [
    "# num_classes = ds_info.features[\"label\"].num_classes\n",
    "resnet50 = keras.models.Sequential([\n",
    "    keras.applications.resnet.ResNet50(\n",
    "        include_top=False,\n",
    "        weights='imagenet',\n",
    "        input_shape=(224,224,3),\n",
    "        pooling='avg',\n",
    "    ),\n",
    "    keras.layers.Dense(num_classes, activation='softmax')\n",
    "])\n",
    "print('=3')"
   ]
  },
  {
   "cell_type": "code",
   "execution_count": 7,
   "id": "15c11cd8",
   "metadata": {},
   "outputs": [
    {
     "name": "stdout",
     "output_type": "stream",
     "text": [
      "=3\n"
     ]
    }
   ],
   "source": [
    "aug_resnet50 = keras.models.Sequential([\n",
    "    keras.applications.resnet.ResNet50(\n",
    "        include_top=False,\n",
    "        weights='imagenet',\n",
    "        input_shape=(224,224,3),\n",
    "        pooling='avg',\n",
    "    ),\n",
    "    keras.layers.Dense(num_classes, activation='softmax')\n",
    "])\n",
    "print('=3')"
   ]
  },
  {
   "cell_type": "markdown",
   "id": "6c6a34b2",
   "metadata": {},
   "source": [
    "### 3. 모델 훈련하기\n",
    "* sparse_categorical_crossentropy() 대신 categorical_crossentropy()를 사용해 주세요!"
   ]
  },
  {
   "cell_type": "code",
   "execution_count": 8,
   "id": "5b079f2e",
   "metadata": {},
   "outputs": [
    {
     "name": "stdout",
     "output_type": "stream",
     "text": [
      "Epoch 1/20\n",
      "750/750 [==============================] - 165s 205ms/step - loss: 2.2247 - accuracy: 0.4455 - val_loss: 3.4428 - val_accuracy: 0.1922\n",
      "Epoch 2/20\n",
      "750/750 [==============================] - 156s 208ms/step - loss: 0.7350 - accuracy: 0.7983 - val_loss: 1.3519 - val_accuracy: 0.6184\n",
      "Epoch 3/20\n",
      "750/750 [==============================] - 157s 209ms/step - loss: 0.2195 - accuracy: 0.9563 - val_loss: 0.9653 - val_accuracy: 0.7165\n",
      "Epoch 4/20\n",
      "750/750 [==============================] - 157s 209ms/step - loss: 0.0651 - accuracy: 0.9941 - val_loss: 0.9104 - val_accuracy: 0.7320\n",
      "Epoch 5/20\n",
      "750/750 [==============================] - 156s 208ms/step - loss: 0.0277 - accuracy: 0.9991 - val_loss: 0.9133 - val_accuracy: 0.7385\n",
      "Epoch 6/20\n",
      "750/750 [==============================] - 156s 208ms/step - loss: 0.0184 - accuracy: 0.9992 - val_loss: 0.9392 - val_accuracy: 0.7297\n",
      "Epoch 7/20\n",
      "750/750 [==============================] - 156s 208ms/step - loss: 0.0137 - accuracy: 0.9996 - val_loss: 0.9332 - val_accuracy: 0.7365\n",
      "Epoch 8/20\n",
      "750/750 [==============================] - 156s 208ms/step - loss: 0.0101 - accuracy: 0.9998 - val_loss: 0.9503 - val_accuracy: 0.7378\n",
      "Epoch 9/20\n",
      "750/750 [==============================] - 156s 208ms/step - loss: 0.0079 - accuracy: 1.0000 - val_loss: 0.9524 - val_accuracy: 0.7390\n",
      "Epoch 10/20\n",
      "750/750 [==============================] - 156s 208ms/step - loss: 0.0074 - accuracy: 0.9998 - val_loss: 0.9679 - val_accuracy: 0.7381\n",
      "Epoch 11/20\n",
      "750/750 [==============================] - 170s 227ms/step - loss: 0.0064 - accuracy: 0.9999 - val_loss: 0.9727 - val_accuracy: 0.7357\n",
      "Epoch 12/20\n",
      "750/750 [==============================] - 156s 208ms/step - loss: 0.0059 - accuracy: 0.9998 - val_loss: 0.9854 - val_accuracy: 0.7395\n",
      "Epoch 13/20\n",
      "750/750 [==============================] - 156s 208ms/step - loss: 0.0064 - accuracy: 0.9996 - val_loss: 0.9846 - val_accuracy: 0.7365\n",
      "Epoch 14/20\n",
      "750/750 [==============================] - 156s 207ms/step - loss: 0.0054 - accuracy: 0.9998 - val_loss: 0.9888 - val_accuracy: 0.7366\n",
      "Epoch 15/20\n",
      "750/750 [==============================] - 156s 208ms/step - loss: 0.0045 - accuracy: 0.9999 - val_loss: 1.0016 - val_accuracy: 0.7374\n",
      "Epoch 16/20\n",
      "750/750 [==============================] - 156s 208ms/step - loss: 0.0041 - accuracy: 0.9999 - val_loss: 0.9972 - val_accuracy: 0.7381\n",
      "Epoch 17/20\n",
      "750/750 [==============================] - 156s 209ms/step - loss: 0.0039 - accuracy: 0.9998 - val_loss: 1.0123 - val_accuracy: 0.7347\n",
      "Epoch 18/20\n",
      "750/750 [==============================] - 156s 208ms/step - loss: 0.0037 - accuracy: 0.9998 - val_loss: 1.0128 - val_accuracy: 0.7394\n",
      "Epoch 19/20\n",
      "750/750 [==============================] - 156s 208ms/step - loss: 0.0028 - accuracy: 1.0000 - val_loss: 1.0098 - val_accuracy: 0.7411\n",
      "Epoch 20/20\n",
      "750/750 [==============================] - 156s 208ms/step - loss: 0.0042 - accuracy: 0.9995 - val_loss: 1.0265 - val_accuracy: 0.7352\n"
     ]
    }
   ],
   "source": [
    "#EPOCH = 20  # Augentation 적용 효과를 확인하기 위해 필요한 epoch 수\n",
    "EPOCH = 20\n",
    "\n",
    "resnet50.compile(\n",
    "    loss='categorical_crossentropy', # 'categorical_crossentropy'로 변경\n",
    "    optimizer=tf.keras.optimizers.SGD(learning_rate=0.01),\n",
    "    metrics=['accuracy'],\n",
    ")\n",
    "\n",
    "history_resnet50_no_aug = resnet50.fit(\n",
    "    ds_train_no_aug, # augmentation 적용하지 않은 데이터셋 사용\n",
    "    steps_per_epoch=int(ds_info.splits['train'].num_examples/16),\n",
    "    validation_steps=int(ds_info.splits['test'].num_examples/16),\n",
    "    epochs=EPOCH,\n",
    "    validation_data=ds_test,\n",
    "    verbose=1,\n",
    "    use_multiprocessing=True,\n",
    ")"
   ]
  },
  {
   "cell_type": "code",
   "execution_count": 9,
   "id": "66f55f80",
   "metadata": {},
   "outputs": [],
   "source": [
    "aug_resnet50.compile(\n",
    "    loss='categorical_crossentropy', # 'categorical_crossentropy'로 변경\n",
    "    optimizer=tf.keras.optimizers.SGD(learning_rate=0.01),\n",
    "    metrics=['accuracy'],\n",
    ")"
   ]
  },
  {
   "cell_type": "code",
   "execution_count": 12,
   "id": "acc2e885",
   "metadata": {},
   "outputs": [
    {
     "name": "stdout",
     "output_type": "stream",
     "text": [
      "Epoch 1/20\n",
      "750/750 [==============================] - 175s 226ms/step - loss: 0.0265 - accuracy: 0.9981 - val_loss: 0.8610 - val_accuracy: 0.7594\n",
      "Epoch 2/20\n",
      "750/750 [==============================] - 156s 209ms/step - loss: 0.0136 - accuracy: 0.9990 - val_loss: 0.8575 - val_accuracy: 0.7641\n",
      "Epoch 3/20\n",
      "750/750 [==============================] - 156s 208ms/step - loss: 0.0107 - accuracy: 0.9990 - val_loss: 0.8655 - val_accuracy: 0.7606\n",
      "Epoch 4/20\n",
      "750/750 [==============================] - 171s 228ms/step - loss: 0.0097 - accuracy: 0.9989 - val_loss: 0.8807 - val_accuracy: 0.7613\n",
      "Epoch 5/20\n",
      "750/750 [==============================] - 157s 209ms/step - loss: 0.0066 - accuracy: 0.9996 - val_loss: 0.8546 - val_accuracy: 0.7684\n",
      "Epoch 6/20\n",
      "750/750 [==============================] - 156s 208ms/step - loss: 0.0049 - accuracy: 0.9998 - val_loss: 0.8721 - val_accuracy: 0.7667\n",
      "Epoch 7/20\n",
      "750/750 [==============================] - 156s 208ms/step - loss: 0.0049 - accuracy: 0.9998 - val_loss: 0.8913 - val_accuracy: 0.7613\n",
      "Epoch 8/20\n",
      "750/750 [==============================] - 156s 208ms/step - loss: 0.0040 - accuracy: 0.9999 - val_loss: 0.8711 - val_accuracy: 0.7673\n",
      "Epoch 9/20\n",
      "750/750 [==============================] - 155s 207ms/step - loss: 0.0041 - accuracy: 0.9997 - val_loss: 0.8925 - val_accuracy: 0.7624\n",
      "Epoch 10/20\n",
      "750/750 [==============================] - 156s 208ms/step - loss: 0.0032 - accuracy: 1.0000 - val_loss: 0.8785 - val_accuracy: 0.7662\n",
      "Epoch 11/20\n",
      "750/750 [==============================] - 156s 208ms/step - loss: 0.0040 - accuracy: 0.9997 - val_loss: 0.8929 - val_accuracy: 0.7641\n",
      "Epoch 12/20\n",
      "750/750 [==============================] - 156s 208ms/step - loss: 0.0032 - accuracy: 0.9998 - val_loss: 0.8796 - val_accuracy: 0.7677\n",
      "Epoch 13/20\n",
      "750/750 [==============================] - 156s 208ms/step - loss: 0.0028 - accuracy: 0.9999 - val_loss: 0.8831 - val_accuracy: 0.7677\n",
      "Epoch 14/20\n",
      "750/750 [==============================] - 156s 208ms/step - loss: 0.0026 - accuracy: 0.9999 - val_loss: 0.8932 - val_accuracy: 0.7650\n",
      "Epoch 15/20\n",
      "750/750 [==============================] - 157s 209ms/step - loss: 0.0030 - accuracy: 0.9999 - val_loss: 0.9031 - val_accuracy: 0.7657\n",
      "Epoch 16/20\n",
      "750/750 [==============================] - 156s 209ms/step - loss: 0.0023 - accuracy: 0.9999 - val_loss: 0.8921 - val_accuracy: 0.7687\n",
      "Epoch 17/20\n",
      "750/750 [==============================] - 156s 209ms/step - loss: 0.0020 - accuracy: 1.0000 - val_loss: 0.8942 - val_accuracy: 0.7699\n",
      "Epoch 18/20\n",
      "750/750 [==============================] - 156s 209ms/step - loss: 0.0019 - accuracy: 0.9999 - val_loss: 0.8906 - val_accuracy: 0.7678\n",
      "Epoch 19/20\n",
      "750/750 [==============================] - 156s 208ms/step - loss: 0.0019 - accuracy: 1.0000 - val_loss: 0.8918 - val_accuracy: 0.7694\n",
      "Epoch 20/20\n",
      "750/750 [==============================] - 156s 209ms/step - loss: 0.0017 - accuracy: 1.0000 - val_loss: 0.8943 - val_accuracy: 0.7685\n"
     ]
    }
   ],
   "source": [
    "history_resnet50_aug = aug_resnet50.fit(\n",
    "    ds_train_aug, # augmentation 적용한 데이터셋 사용\n",
    "    steps_per_epoch=int(ds_info.splits['train'].num_examples/16),\n",
    "    validation_steps=int(ds_info.splits['test'].num_examples/16),\n",
    "    epochs=EPOCH,\n",
    "    validation_data=ds_test,\n",
    "    verbose=1,\n",
    "    use_multiprocessing=True,\n",
    ")"
   ]
  },
  {
   "cell_type": "code",
   "execution_count": 10,
   "id": "59dd7c5c",
   "metadata": {},
   "outputs": [
    {
     "name": "stdout",
     "output_type": "stream",
     "text": [
      "Epoch 1/20\n",
      "750/750 [==============================] - 166s 211ms/step - loss: 3.8602 - accuracy: 0.2007 - val_loss: 3.2040 - val_accuracy: 0.2324\n",
      "Epoch 2/20\n",
      "750/750 [==============================] - 157s 210ms/step - loss: 3.0233 - accuracy: 0.4085 - val_loss: 1.4480 - val_accuracy: 0.6056\n",
      "Epoch 3/20\n",
      "750/750 [==============================] - 157s 209ms/step - loss: 2.7301 - accuracy: 0.4939 - val_loss: 1.5409 - val_accuracy: 0.5771\n",
      "Epoch 4/20\n",
      "750/750 [==============================] - 157s 209ms/step - loss: 2.5580 - accuracy: 0.5528 - val_loss: 1.1081 - val_accuracy: 0.6810\n",
      "Epoch 5/20\n",
      "750/750 [==============================] - 156s 209ms/step - loss: 2.4169 - accuracy: 0.5905 - val_loss: 1.1680 - val_accuracy: 0.6762\n",
      "Epoch 6/20\n",
      "750/750 [==============================] - 157s 209ms/step - loss: 2.3008 - accuracy: 0.6288 - val_loss: 1.2344 - val_accuracy: 0.6572\n",
      "Epoch 7/20\n",
      "750/750 [==============================] - 156s 209ms/step - loss: 2.2371 - accuracy: 0.6571 - val_loss: 1.6465 - val_accuracy: 0.5735\n",
      "Epoch 8/20\n",
      "750/750 [==============================] - 157s 209ms/step - loss: 2.1569 - accuracy: 0.6743 - val_loss: 1.1702 - val_accuracy: 0.6818\n",
      "Epoch 9/20\n",
      "750/750 [==============================] - 157s 209ms/step - loss: 2.0835 - accuracy: 0.7042 - val_loss: 1.3189 - val_accuracy: 0.6445\n",
      "Epoch 10/20\n",
      "750/750 [==============================] - 157s 209ms/step - loss: 2.0178 - accuracy: 0.7173 - val_loss: 1.1221 - val_accuracy: 0.7015\n",
      "Epoch 11/20\n",
      "750/750 [==============================] - 157s 209ms/step - loss: 1.9606 - accuracy: 0.7343 - val_loss: 1.1899 - val_accuracy: 0.6906\n",
      "Epoch 12/20\n",
      "750/750 [==============================] - 157s 209ms/step - loss: 1.9236 - accuracy: 0.7475 - val_loss: 1.1827 - val_accuracy: 0.6965\n",
      "Epoch 13/20\n",
      "750/750 [==============================] - 172s 229ms/step - loss: 1.8774 - accuracy: 0.7580 - val_loss: 1.2484 - val_accuracy: 0.6744\n",
      "Epoch 14/20\n",
      "750/750 [==============================] - 158s 210ms/step - loss: 1.8539 - accuracy: 0.7682 - val_loss: 1.2578 - val_accuracy: 0.6744\n",
      "Epoch 15/20\n",
      "750/750 [==============================] - 157s 210ms/step - loss: 1.8295 - accuracy: 0.7688 - val_loss: 1.3007 - val_accuracy: 0.6699\n",
      "Epoch 16/20\n",
      "750/750 [==============================] - 157s 209ms/step - loss: 1.7712 - accuracy: 0.7918 - val_loss: 1.3164 - val_accuracy: 0.6725\n",
      "Epoch 17/20\n",
      "750/750 [==============================] - 157s 210ms/step - loss: 1.7357 - accuracy: 0.7956 - val_loss: 1.2377 - val_accuracy: 0.6909\n",
      "Epoch 18/20\n",
      "750/750 [==============================] - 171s 229ms/step - loss: 1.7385 - accuracy: 0.7870 - val_loss: 1.3046 - val_accuracy: 0.6718\n",
      "Epoch 19/20\n",
      "750/750 [==============================] - 157s 210ms/step - loss: 1.7119 - accuracy: 0.8025 - val_loss: 1.2970 - val_accuracy: 0.6844\n",
      "Epoch 20/20\n",
      "750/750 [==============================] - 157s 209ms/step - loss: 1.6838 - accuracy: 0.8032 - val_loss: 1.2386 - val_accuracy: 0.6973\n"
     ]
    }
   ],
   "source": [
    "history_resnet50_aug_cutmix = aug_resnet50.fit(\n",
    "    ds_train_aug_cutmix, # augmentation + cutmix 적용한 데이터셋 사용\n",
    "    steps_per_epoch=int(ds_info.splits['train'].num_examples/16),\n",
    "    validation_steps=int(ds_info.splits['test'].num_examples/16),\n",
    "    epochs=EPOCH,\n",
    "    validation_data=ds_test,\n",
    "    verbose=1,\n",
    "    use_multiprocessing=True,\n",
    ")"
   ]
  },
  {
   "cell_type": "code",
   "execution_count": 13,
   "id": "31f1a575",
   "metadata": {},
   "outputs": [
    {
     "name": "stdout",
     "output_type": "stream",
     "text": [
      "Epoch 1/20\n",
      "750/750 [==============================] - 161s 210ms/step - loss: 1.9863 - accuracy: 0.8099 - val_loss: 1.4445 - val_accuracy: 0.6554\n",
      "Epoch 2/20\n",
      "750/750 [==============================] - 157s 210ms/step - loss: 1.8845 - accuracy: 0.8288 - val_loss: 1.4293 - val_accuracy: 0.6575\n",
      "Epoch 3/20\n",
      "750/750 [==============================] - 157s 210ms/step - loss: 1.8865 - accuracy: 0.8282 - val_loss: 1.3812 - val_accuracy: 0.6681\n",
      "Epoch 4/20\n",
      "750/750 [==============================] - 172s 229ms/step - loss: 1.8419 - accuracy: 0.8357 - val_loss: 1.2749 - val_accuracy: 0.6912\n",
      "Epoch 5/20\n",
      "750/750 [==============================] - 157s 210ms/step - loss: 1.8232 - accuracy: 0.8411 - val_loss: 1.3152 - val_accuracy: 0.6831\n",
      "Epoch 6/20\n",
      "750/750 [==============================] - 157s 209ms/step - loss: 1.8024 - accuracy: 0.8441 - val_loss: 1.4573 - val_accuracy: 0.6583\n",
      "Epoch 7/20\n",
      "750/750 [==============================] - 157s 209ms/step - loss: 1.7861 - accuracy: 0.8475 - val_loss: 1.3445 - val_accuracy: 0.6711\n",
      "Epoch 8/20\n",
      "750/750 [==============================] - 157s 209ms/step - loss: 1.7699 - accuracy: 0.8483 - val_loss: 1.3195 - val_accuracy: 0.6910\n",
      "Epoch 9/20\n",
      "750/750 [==============================] - 157s 209ms/step - loss: 1.7571 - accuracy: 0.8493 - val_loss: 1.4263 - val_accuracy: 0.6604\n",
      "Epoch 10/20\n",
      "750/750 [==============================] - 157s 209ms/step - loss: 1.7451 - accuracy: 0.8508 - val_loss: 1.3579 - val_accuracy: 0.6789\n",
      "Epoch 11/20\n",
      "750/750 [==============================] - 157s 210ms/step - loss: 1.7378 - accuracy: 0.8516 - val_loss: 1.2887 - val_accuracy: 0.6847\n",
      "Epoch 12/20\n",
      "750/750 [==============================] - 157s 209ms/step - loss: 1.7252 - accuracy: 0.8571 - val_loss: 1.3019 - val_accuracy: 0.6905\n",
      "Epoch 13/20\n",
      "750/750 [==============================] - 157s 209ms/step - loss: 1.7048 - accuracy: 0.8578 - val_loss: 1.3705 - val_accuracy: 0.6776\n",
      "Epoch 14/20\n",
      "750/750 [==============================] - 157s 209ms/step - loss: 1.6796 - accuracy: 0.8653 - val_loss: 1.4359 - val_accuracy: 0.6607\n",
      "Epoch 15/20\n",
      "750/750 [==============================] - 157s 209ms/step - loss: 1.6806 - accuracy: 0.8655 - val_loss: 1.3850 - val_accuracy: 0.6673\n",
      "Epoch 16/20\n",
      "750/750 [==============================] - 157s 209ms/step - loss: 1.6790 - accuracy: 0.8668 - val_loss: 1.3385 - val_accuracy: 0.6775\n",
      "Epoch 17/20\n",
      "750/750 [==============================] - 171s 228ms/step - loss: 1.6633 - accuracy: 0.8655 - val_loss: 1.3115 - val_accuracy: 0.6983\n",
      "Epoch 18/20\n",
      "750/750 [==============================] - 158s 210ms/step - loss: 1.6549 - accuracy: 0.8654 - val_loss: 1.3213 - val_accuracy: 0.6863\n",
      "Epoch 19/20\n",
      "750/750 [==============================] - 157s 210ms/step - loss: 1.6526 - accuracy: 0.8664 - val_loss: 1.4295 - val_accuracy: 0.6762\n",
      "Epoch 20/20\n",
      "750/750 [==============================] - 157s 210ms/step - loss: 1.6452 - accuracy: 0.8662 - val_loss: 1.3740 - val_accuracy: 0.6855\n"
     ]
    }
   ],
   "source": [
    "history_resnet50_aug_mixup = aug_resnet50.fit(\n",
    "    ds_train_aug_mixup, # augmentation + mixup 적용한 데이터셋 사용\n",
    "    steps_per_epoch=int(ds_info.splits['train'].num_examples/16),\n",
    "    validation_steps=int(ds_info.splits['test'].num_examples/16),\n",
    "    epochs=EPOCH,\n",
    "    validation_data=ds_test,\n",
    "    verbose=1,\n",
    "    use_multiprocessing=True,\n",
    ")"
   ]
  },
  {
   "cell_type": "markdown",
   "id": "77006c6b",
   "metadata": {},
   "source": [
    "### 4. 훈련 과정 시각화하기"
   ]
  },
  {
   "cell_type": "code",
   "execution_count": 14,
   "id": "5207869b",
   "metadata": {},
   "outputs": [
    {
     "data": {
      "image/png": "[encoded data removed]",
      "text/plain": [
       "<Figure size 432x288 with 1 Axes>"
      ]
     },
     "metadata": {
      "needs_background": "light"
     },
     "output_type": "display_data"
    }
   ],
   "source": [
    "plt.plot(history_resnet50_no_aug.history['val_accuracy'], 'r')\n",
    "plt.plot(history_resnet50_aug.history['val_accuracy'], 'b')\n",
    "plt.plot(history_resnet50_aug_cutmix.history['val_accuracy'], 'b--')\n",
    "plt.plot(history_resnet50_aug_mixup.history['val_accuracy'], 'b:')\n",
    "plt.title('Model validation accuracy')\n",
    "plt.ylabel('Accuracy')\n",
    "plt.xlabel('Epochs')\n",
    "plt.legend(['No Aug', 'w/ Aug','w/ Aug&Cutmix','w/ Aug&Mixup'], loc='lower right')\n",
    "plt.grid(True)\n",
    "# plt.ylim(0., 0.75) \n",
    "plt.show()"
   ]
  },
  {
   "cell_type": "code",
   "execution_count": 15,
   "id": "55a41211",
   "metadata": {},
   "outputs": [
    {
     "data": {
      "image/png": "[encoded data removed]",
      "text/plain": [
       "<Figure size 432x288 with 1 Axes>"
      ]
     },
     "metadata": {
      "needs_background": "light"
     },
     "output_type": "display_data"
    }
   ],
   "source": [
    "plt.plot(history_resnet50_no_aug.history['val_loss'], 'r')\n",
    "plt.plot(history_resnet50_aug.history['val_loss'], 'b')\n",
    "plt.plot(history_resnet50_aug_cutmix.history['val_loss'], 'b--')\n",
    "plt.plot(history_resnet50_aug_mixup.history['val_loss'], 'b:')\n",
    "plt.title('Model validation loss')\n",
    "plt.ylabel('Loss')\n",
    "plt.xlabel('Epochs')\n",
    "plt.legend(['No Aug', 'w/ Aug','w/ Aug&Cutmix','w/ Aug&Mixup'], loc='upper right')\n",
    "plt.grid(True)\n",
    "# plt.ylim(0.8, 2.) \n",
    "plt.show()"
   ]
  },
  {
   "cell_type": "markdown",
   "id": "489fe379",
   "metadata": {},
   "source": [
    "### 5. Augmentation에 의한 모델 성능 비교\n",
    "* No Augmentation, 기본 Augmentation, 기본 + CutMix 적용, 기본 + Mixup 적용 이상 4가지 경우의 데이터셋에 대해 훈련된 ResNet50 분류기의 견종 분류 정확도 성능을 비교\n",
    "* Augmentation 방법들의 영향도에 대해 분석해 보세요."
   ]
  },
  {
   "cell_type": "markdown",
   "id": "9f82b422",
   "metadata": {},
   "source": [
    "> epochs=20를 수행했음에도 Cutmix나 Mixup의 효용성이 나타나지 않았다.     "
   ]
  },
  {
   "cell_type": "markdown",
   "id": "715977d4",
   "metadata": {},
   "source": [
    "> Augmentation의 일반적 특징은 아래와 같으며, **실험결과와 관련된 특이사항을 추가하였습니다.**\n",
    "\n",
    "1. 원본 데이터 (No Augmentation)\n",
    "    - 장점: 데이터가 그대로 사용되므로, 모델이 데이터의 자연스러운 특성을 배울 수 있습니다.\n",
    "    - 단점: 데이터가 충분하지 않을 경우 과적합(overfitting)이 발생할 가능성이 높습니다. 모델의 일반화 성능이 낮을 수 있습니다.\n",
    "2. 기본 증강 (좌우 반전, 밝기 조정)\n",
    "    - 장점: 간단한 증강 기법을 통해 데이터의 다양성을 높이고, 모델이 데이터의 다양한 변형에 잘 대응할 수 있게 합니다. 과적합을 방지하고 -일반화 성능을 향상시킬 수 있습니다.\n",
    "    - 단점: 증강 기법이 제한적이므로 데이터 다양성의 증가가 한정적일 수 있습니다.\n",
    "3. 기본 증강 + CutMix\n",
    "CutMix: 두 개의 이미지를 섞는 대신, 한 이미지의 일부를 잘라내어 다른 이미지에 붙이는 기법입니다.\n",
    "    - 장점: 모델이 객체의 일부분을 인식하는 데 강해집니다. 또한, CutMix는 학습 데이터를 더욱 다양하게 만들어 일반화 성능을 크게 향상시킬 수 있습니다.\n",
    "    - 단점: 이미지가 불규칙하게 변형되므로 학습 초기에는 모델이 적응하는 데 시간이 걸릴 수 있습니다.\n",
    "> epochs=20에도 효과가 나타나지 않았습니다.\n",
    "4. 기본 증강 + MixUp\n",
    "MixUp: 두 개의 이미지를 선형으로 혼합하는 기법입니다.\n",
    "    - 장점: 모델이 두 이미지의 혼합된 정보를 학습하도록 유도하여, 모델이 데이터의 연속적인 변화를 더 잘 이해할 수 있게 합니다. 이로 인해 과적합이 줄어들고 일반화 성능이 향상됩니다.\n",
    "    - 단점: 이미지가 자연스럽지 않을 수 있으며, 원본 이미지의 의미가 왜곡될 수 있습니다\n",
    "> epochs=20에도 효과가 나타나지 않았습니다."
   ]
  },
  {
   "cell_type": "markdown",
   "id": "3f68e300",
   "metadata": {},
   "source": [
    "# 회고\n",
    "* resne50모델의 층이 깊어서 그런지, 모델 작동시간이 체감될 정도로 오래 걸렸다.\n",
    "* 작동시간이 오래 걸려서 epoch횟수 증대에 제한사항이 되었다.\n",
    "* Cutmix와 Mixup의 효과가 epochs=20에서도 나타나지 않았다."
   ]
  }
 ],
 "metadata": {
  "kernelspec": {
   "display_name": "Python 3 (ipykernel)",
   "language": "python",
   "name": "python3"
  },
  "language_info": {
   "codemirror_mode": {
    "name": "ipython",
    "version": 3
   },
   "file_extension": ".py",
   "mimetype": "text/x-python",
   "name": "python",
   "nbconvert_exporter": "python",
   "pygments_lexer": "ipython3",
   "version": "3.9.7"
  }
 },
 "nbformat": 4,
 "nbformat_minor": 5
}

{
 "cells": [
  {
   "cell_type": "markdown",
   "id": "7f71ff5d",
   "metadata": {},
   "source": [
    "# Project"
   ]
  },
  {
   "cell_type": "code",
   "execution_count": 1,
   "id": "2fae89cd",
   "metadata": {},
   "outputs": [],
   "source": [
    "# TensorFlow and tf.keras\n",
    "import tensorflow as tf\n",
    "from tensorflow import keras\n",
    "\n",
    "# Helper libraries\n",
    "import numpy as np\n",
    "import matplotlib.pyplot as plt\n",
    "\n",
    "import tensorflow_datasets as tfds"
   ]
  },
  {
   "cell_type": "markdown",
   "id": "f7744998",
   "metadata": {},
   "source": [
    "### 1. Augmentation을 적용한 데이터셋 만들기"
   ]
  },
  {
   "cell_type": "markdown",
   "id": "a3a7b9c1",
   "metadata": {},
   "source": [
    "* 아래는 CutMix를 적용할 수 있도록 변경한 apply_normalize_on_dataset()입니다.\n",
    "* 우리가 cutmix(), mixup()을 구현하면서 label의 mix 때문에 더이상 label이 스칼라값을 가지지 못하고 One-Hot 벡터 형태로 변환되었기 때문"
   ]
  },
  {
   "cell_type": "code",
   "execution_count": 2,
   "id": "09ef7fda",
   "metadata": {},
   "outputs": [],
   "source": [
    "# get_clip_box 함수 정의 그대로 사용\n",
    "def get_clip_box(image_a, image_b):\n",
    "    image_size_x = image_a.shape[1]\n",
    "    image_size_y = image_a.shape[0]\n",
    "    \n",
    "    x = tf.cast(tf.random.uniform([], 0, image_size_x), tf.int32)\n",
    "    y = tf.cast(tf.random.uniform([], 0, image_size_y), tf.int32)\n",
    "\n",
    "    width = tf.cast(image_size_x * tf.math.sqrt(1 - tf.random.uniform([], 0, 1)), tf.int32)\n",
    "    height = tf.cast(image_size_y * tf.math.sqrt(1 - tf.random.uniform([], 0, 1)), tf.int32)\n",
    "    \n",
    "    x_min = tf.math.maximum(0, x - width // 2)\n",
    "    y_min = tf.math.maximum(0, y - height // 2)\n",
    "    x_max = tf.math.minimum(image_size_x, x + width // 2)\n",
    "    y_max = tf.math.minimum(image_size_y, y + height // 2)\n",
    "    \n",
    "    return x_min, y_min, x_max, y_max\n",
    "\n",
    "# mix_2_images 함수 정의 그대로 사용\n",
    "def mix_2_images(image_a, image_b, x_min, y_min, x_max, y_max):\n",
    "    image_size_x = image_a.shape[1]\n",
    "    image_size_y = image_a.shape[0]\n",
    "    middle_left = image_a[y_min:y_max, 0:x_min, :] \n",
    "    middle_center = image_b[y_min:y_max, x_min:x_max, :]  \n",
    "    middle_right = image_a[y_min:y_max, x_max:image_size_x, :] \n",
    "    middle = tf.concat([middle_left, middle_center, middle_right], axis=1)\n",
    "    top = image_a[0:y_min, :, :]\n",
    "    bottom = image_a[y_max:image_size_y, :, :]\n",
    "    mixed_img = tf.concat([top, middle, bottom], axis=0)\n",
    "    \n",
    "    return mixed_img\n",
    "\n",
    "# mix_2_labels 함수에서 image_a와 image_b 인자 추가\n",
    "def mix_2_labels(image_a, image_b, label_a, label_b, x_min, y_min, x_max, y_max, num_classes=120):\n",
    "    image_size_x = image_a.shape[1]\n",
    "    image_size_y = image_a.shape[0]\n",
    "    mixed_area = (x_max - x_min) * (y_max - y_min)\n",
    "    total_area = image_size_x * image_size_y\n",
    "    ratio = tf.cast(mixed_area / total_area, tf.float32)\n",
    "\n",
    "    if len(label_a.shape) == 0:\n",
    "        label_a = tf.one_hot(label_a, num_classes)\n",
    "    if len(label_b.shape) == 0:\n",
    "        label_b = tf.one_hot(label_b, num_classes)\n",
    "    mixed_label = (1 - ratio) * label_a + ratio * label_b\n",
    "    return mixed_label\n",
    "\n",
    "# cutmix 함수에서 num_classes를 인자로 받아 사용\n",
    "def cutmix(image, label, batch_size=16, img_size=224, num_classes=120):\n",
    "    mixed_imgs = []\n",
    "    mixed_labels = []\n",
    "\n",
    "    for i in range(batch_size):\n",
    "        image_a = image[i]\n",
    "        label_a = label[i]\n",
    "        j = tf.cast(tf.random.uniform([], 0, batch_size), tf.int32)\n",
    "        image_b = image[j]\n",
    "        label_b = label[j]\n",
    "        x_min, y_min, x_max, y_max = get_clip_box(image_a, image_b)\n",
    "        mixed_imgs.append(mix_2_images(image_a, image_b, x_min, y_min, x_max, y_max))\n",
    "        mixed_labels.append(mix_2_labels(image_a, image_b, label_a, label_b, x_min, y_min, x_max, y_max, num_classes))\n",
    "\n",
    "    mixed_imgs = tf.reshape(tf.stack(mixed_imgs), (batch_size, img_size, img_size, 3))\n",
    "    mixed_labels = tf.reshape(tf.stack(mixed_labels), (batch_size, num_classes))\n",
    "    return mixed_imgs, mixed_labels"
   ]
  },
  {
   "cell_type": "code",
   "execution_count": 3,
   "id": "5b8a2fad",
   "metadata": {},
   "outputs": [],
   "source": [
    "# function for mixup\n",
    "def mixup_2_images(image_a, image_b, label_a, label_b):\n",
    "    ratio = tf.random.uniform([], 0, 1)\n",
    "    \n",
    "    if len(label_a.shape)==0:\n",
    "        label_a = tf.one_hot(label_a, num_classes)\n",
    "    if len(label_b.shape)==0:\n",
    "        label_b = tf.one_hot(label_b, num_classes)\n",
    "    mixed_image= (1-ratio)*image_a + ratio*image_b\n",
    "    mixed_label = (1-ratio)*label_a + ratio*label_b\n",
    "    \n",
    "    return mixed_image, mixed_label\n",
    "\n",
    "def mixup(image, label, prob=1.0, batch_size=16, img_size=224, num_classes=120):\n",
    "    mixed_imgs = []\n",
    "    mixed_labels = []\n",
    "\n",
    "    for i in range(batch_size):\n",
    "        image_a = image[i]\n",
    "        label_a = label[i]\n",
    "        j = tf.cast(tf.random.uniform([],0,batch_size), tf.int32)\n",
    "        image_b = image[j]\n",
    "        label_b = label[j]\n",
    "        mixed_img, mixed_label = mixup_2_images(image_a, image_b, label_a, label_b)\n",
    "        mixed_imgs.append(mixed_img)\n",
    "        mixed_labels.append(mixed_label)\n",
    "\n",
    "    mixed_imgs = tf.reshape(tf.stack(mixed_imgs), (batch_size, img_size, img_size, 3))\n",
    "    mixed_labels = tf.reshape(tf.stack(mixed_labels), (batch_size, num_classes))\n",
    "    return mixed_imgs, mixed_labels"
   ]
  },
  {
   "cell_type": "code",
   "execution_count": 4,
   "id": "4ec024f0",
   "metadata": {},
   "outputs": [],
   "source": [
    "def normalize_and_resize_img(image, label):\n",
    "    # Normalizes images: `uint8` -> `float32`\n",
    "    image = tf.image.resize(image, [224, 224])\n",
    "    return tf.cast(image, tf.float32) / 255., label\n",
    "\n",
    "def augment(image, label):\n",
    "    image = tf.image.random_flip_left_right(image)\n",
    "    image = tf.image.random_brightness(image, max_delta=0.2)\n",
    "    image = tf.clip_by_value(image, 0, 1)\n",
    "    return image, label\n",
    "\n",
    "def onehot(image, label):\n",
    "    label = tf.one_hot(label, num_classes)\n",
    "    return image, label\n",
    "\n",
    "def apply_normalize_on_dataset(ds, is_test=False, batch_size=16, \n",
    "                               with_aug=False, with_cutmix=False, with_mixup=False):\n",
    "    ds = ds.map(\n",
    "        normalize_and_resize_img, \n",
    "        num_parallel_calls=2\n",
    "    )\n",
    "    if not is_test and with_aug:\n",
    "        ds = ds.map(\n",
    "            augment\n",
    "        )\n",
    "    ds = ds.batch(batch_size)\n",
    "    if not is_test and with_cutmix:\n",
    "        ds = ds.map(\n",
    "            cutmix,\n",
    "            num_parallel_calls=2\n",
    "        )\n",
    "    elif not is_test and with_mixup:  # 변경된 부분\n",
    "        ds = ds.map(\n",
    "            mixup,\n",
    "            num_parallel_calls=2\n",
    "        )   \n",
    "    else:\n",
    "        ds = ds.map(\n",
    "            onehot,\n",
    "            num_parallel_calls=2\n",
    "        )\n",
    "    if not is_test:\n",
    "        ds = ds.repeat()\n",
    "        ds = ds.shuffle(200)\n",
    "    ds = ds.prefetch(tf.data.experimental.AUTOTUNE)\n",
    "    return ds"
   ]
  },
  {
   "cell_type": "code",
   "execution_count": 5,
   "id": "dfdd5e51",
   "metadata": {},
   "outputs": [],
   "source": [
    "(ds_train, ds_test), ds_info = tfds.load(\n",
    "    'stanford_dogs',\n",
    "    split=['train', 'test'],\n",
    "    as_supervised=True,\n",
    "    shuffle_files=True,\n",
    "    with_info=True,\n",
    ")\n",
    "\n",
    "num_classes = ds_info.features[\"label\"].num_classes\n",
    "\n",
    "ds_train_no_aug = apply_normalize_on_dataset(ds_train, with_aug=False)\n",
    "ds_train_aug= apply_normalize_on_dataset(ds_train, with_aug=True)\n",
    "ds_train_aug_cutmix = apply_normalize_on_dataset(ds_train, with_aug=True, with_cutmix=True) # 변경된 부분\n",
    "ds_train_aug_mixup = apply_normalize_on_dataset(ds_train, with_aug=True, with_mixup=True) # 변경된 부분\n",
    "ds_test = apply_normalize_on_dataset(ds_test, is_test=True)"
   ]
  },
  {
   "cell_type": "markdown",
   "id": "39784eec",
   "metadata": {},
   "source": [
    "### 2. 모델 만들기\n",
    "* 앞서 만들었던 것처럼 비교 실험을 위한 모델 두 개를 만들어 주세요. 모델은 ResNet-50을 사용합시다."
   ]
  },
  {
   "cell_type": "code",
   "execution_count": 6,
   "id": "1bf0e430",
   "metadata": {},
   "outputs": [
    {
     "name": "stdout",
     "output_type": "stream",
     "text": [
      "=3\n"
     ]
    }
   ],
   "source": [
    "# num_classes = ds_info.features[\"label\"].num_classes\n",
    "resnet50 = keras.models.Sequential([\n",
    "    keras.applications.resnet.ResNet50(\n",
    "        include_top=False,\n",
    "        weights='imagenet',\n",
    "        input_shape=(224,224,3),\n",
    "        pooling='avg',\n",
    "    ),\n",
    "    keras.layers.Dense(num_classes, activation='softmax')\n",
    "])\n",
    "print('=3')"
   ]
  },
  {
   "cell_type": "code",
   "execution_count": 7,
   "id": "9c311d5f",
   "metadata": {},
   "outputs": [
    {
     "name": "stdout",
     "output_type": "stream",
     "text": [
      "=3\n"
     ]
    }
   ],
   "source": [
    "aug_resnet50 = keras.models.Sequential([\n",
    "    keras.applications.resnet.ResNet50(\n",
    "        include_top=False,\n",
    "        weights='imagenet',\n",
    "        input_shape=(224,224,3),\n",
    "        pooling='avg',\n",
    "    ),\n",
    "    keras.layers.Dense(num_classes, activation='softmax')\n",
    "])\n",
    "print('=3')"
   ]
  },
  {
   "cell_type": "markdown",
   "id": "96bb240d",
   "metadata": {},
   "source": [
    "### 3. 모델 훈련하기\n",
    "* sparse_categorical_crossentropy() 대신 categorical_crossentropy()를 사용해 주세요!"
   ]
  },
  {
   "cell_type": "code",
   "execution_count": 8,
   "id": "22fd4d59",
   "metadata": {},
   "outputs": [
    {
     "name": "stdout",
     "output_type": "stream",
     "text": [
      "Epoch 1/10\n",
      "750/750 [==============================] - 171s 203ms/step - loss: 2.1967 - accuracy: 0.4512 - val_loss: 3.3802 - val_accuracy: 0.1980\n",
      "Epoch 2/10\n",
      "750/750 [==============================] - 156s 208ms/step - loss: 0.7450 - accuracy: 0.7932 - val_loss: 1.0629 - val_accuracy: 0.6938\n",
      "Epoch 3/10\n",
      "750/750 [==============================] - 156s 208ms/step - loss: 0.2354 - accuracy: 0.9484 - val_loss: 0.9599 - val_accuracy: 0.7163\n",
      "Epoch 4/10\n",
      "750/750 [==============================] - 156s 208ms/step - loss: 0.0704 - accuracy: 0.9933 - val_loss: 0.9358 - val_accuracy: 0.7310\n",
      "Epoch 5/10\n",
      "750/750 [==============================] - 156s 208ms/step - loss: 0.0282 - accuracy: 0.9984 - val_loss: 0.9171 - val_accuracy: 0.7408\n",
      "Epoch 6/10\n",
      "750/750 [==============================] - 156s 208ms/step - loss: 0.0176 - accuracy: 0.9994 - val_loss: 0.9203 - val_accuracy: 0.7429\n",
      "Epoch 7/10\n",
      "750/750 [==============================] - 156s 208ms/step - loss: 0.0121 - accuracy: 1.0000 - val_loss: 0.9405 - val_accuracy: 0.7408\n",
      "Epoch 8/10\n",
      "750/750 [==============================] - 156s 208ms/step - loss: 0.0095 - accuracy: 1.0000 - val_loss: 0.9433 - val_accuracy: 0.7449\n",
      "Epoch 9/10\n",
      "750/750 [==============================] - 156s 208ms/step - loss: 0.0094 - accuracy: 0.9994 - val_loss: 1.1116 - val_accuracy: 0.7067\n",
      "Epoch 10/10\n",
      "750/750 [==============================] - 156s 208ms/step - loss: 0.0204 - accuracy: 0.9986 - val_loss: 1.0348 - val_accuracy: 0.7254\n"
     ]
    }
   ],
   "source": [
    "#EPOCH = 20  # Augentation 적용 효과를 확인하기 위해 필요한 epoch 수\n",
    "EPOCH = 10\n",
    "\n",
    "resnet50.compile(\n",
    "    loss='categorical_crossentropy', # 'categorical_crossentropy'로 변경\n",
    "    optimizer=tf.keras.optimizers.SGD(learning_rate=0.01),\n",
    "    metrics=['accuracy'],\n",
    ")\n",
    "\n",
    "history_resnet50_no_aug = resnet50.fit(\n",
    "    ds_train_no_aug, # augmentation 적용하지 않은 데이터셋 사용\n",
    "    steps_per_epoch=int(ds_info.splits['train'].num_examples/16),\n",
    "    validation_steps=int(ds_info.splits['test'].num_examples/16),\n",
    "    epochs=EPOCH,\n",
    "    validation_data=ds_test,\n",
    "    verbose=1,\n",
    "    use_multiprocessing=True,\n",
    ")"
   ]
  },
  {
   "cell_type": "code",
   "execution_count": 9,
   "id": "7b43ead2",
   "metadata": {},
   "outputs": [],
   "source": [
    "aug_resnet50.compile(\n",
    "    loss='categorical_crossentropy', # 'categorical_crossentropy'로 변경\n",
    "    optimizer=tf.keras.optimizers.SGD(learning_rate=0.01),\n",
    "    metrics=['accuracy'],\n",
    ")"
   ]
  },
  {
   "cell_type": "code",
   "execution_count": 10,
   "id": "15e242cf",
   "metadata": {},
   "outputs": [
    {
     "name": "stdout",
     "output_type": "stream",
     "text": [
      "Epoch 1/10\n",
      "750/750 [==============================] - 164s 209ms/step - loss: 2.2500 - accuracy: 0.4402 - val_loss: 2.8199 - val_accuracy: 0.2958\n",
      "Epoch 2/10\n",
      "750/750 [==============================] - 156s 208ms/step - loss: 0.9364 - accuracy: 0.7325 - val_loss: 1.5801 - val_accuracy: 0.5610\n",
      "Epoch 3/10\n",
      "750/750 [==============================] - 156s 208ms/step - loss: 0.4880 - accuracy: 0.8668 - val_loss: 1.0381 - val_accuracy: 0.6946\n",
      "Epoch 4/10\n",
      "750/750 [==============================] - 156s 208ms/step - loss: 0.2565 - accuracy: 0.9419 - val_loss: 1.1341 - val_accuracy: 0.6841\n",
      "Epoch 5/10\n",
      "750/750 [==============================] - 156s 208ms/step - loss: 0.1319 - accuracy: 0.9756 - val_loss: 1.0178 - val_accuracy: 0.7128\n",
      "Epoch 6/10\n",
      "750/750 [==============================] - 156s 208ms/step - loss: 0.0810 - accuracy: 0.9898 - val_loss: 0.9863 - val_accuracy: 0.7232\n",
      "Epoch 7/10\n",
      "750/750 [==============================] - 156s 208ms/step - loss: 0.0488 - accuracy: 0.9948 - val_loss: 0.9661 - val_accuracy: 0.7339\n",
      "Epoch 8/10\n",
      "750/750 [==============================] - 156s 208ms/step - loss: 0.0319 - accuracy: 0.9973 - val_loss: 0.9556 - val_accuracy: 0.7428\n",
      "Epoch 9/10\n",
      "750/750 [==============================] - 156s 208ms/step - loss: 0.0259 - accuracy: 0.9973 - val_loss: 1.0607 - val_accuracy: 0.7206\n",
      "Epoch 10/10\n",
      "750/750 [==============================] - 156s 208ms/step - loss: 0.0198 - accuracy: 0.9983 - val_loss: 0.9208 - val_accuracy: 0.7515\n"
     ]
    }
   ],
   "source": [
    "history_resnet50_aug = aug_resnet50.fit(\n",
    "    ds_train_aug, # augmentation 적용한 데이터셋 사용\n",
    "    steps_per_epoch=int(ds_info.splits['train'].num_examples/16),\n",
    "    validation_steps=int(ds_info.splits['test'].num_examples/16),\n",
    "    epochs=EPOCH,\n",
    "    validation_data=ds_test,\n",
    "    verbose=1,\n",
    "    use_multiprocessing=True,\n",
    ")"
   ]
  },
  {
   "cell_type": "code",
   "execution_count": 11,
   "id": "87312314",
   "metadata": {},
   "outputs": [
    {
     "name": "stdout",
     "output_type": "stream",
     "text": [
      "Epoch 1/10\n",
      "750/750 [==============================] - 165s 210ms/step - loss: 2.4212 - accuracy: 0.6410 - val_loss: 1.2966 - val_accuracy: 0.6498\n",
      "Epoch 2/10\n",
      "750/750 [==============================] - 157s 210ms/step - loss: 2.2740 - accuracy: 0.6723 - val_loss: 1.2870 - val_accuracy: 0.6552\n",
      "Epoch 3/10\n",
      "750/750 [==============================] - 157s 210ms/step - loss: 2.1612 - accuracy: 0.6914 - val_loss: 1.3370 - val_accuracy: 0.6487\n",
      "Epoch 4/10\n",
      "750/750 [==============================] - 157s 210ms/step - loss: 2.1081 - accuracy: 0.7142 - val_loss: 1.2852 - val_accuracy: 0.6609\n",
      "Epoch 5/10\n",
      "750/750 [==============================] - 157s 210ms/step - loss: 2.0431 - accuracy: 0.7274 - val_loss: 1.1858 - val_accuracy: 0.6903\n",
      "Epoch 6/10\n",
      "750/750 [==============================] - 157s 210ms/step - loss: 1.9870 - accuracy: 0.7418 - val_loss: 1.5549 - val_accuracy: 0.6077\n",
      "Epoch 7/10\n",
      "750/750 [==============================] - 157s 210ms/step - loss: 1.9624 - accuracy: 0.7512 - val_loss: 1.2662 - val_accuracy: 0.6767\n",
      "Epoch 8/10\n",
      "750/750 [==============================] - 157s 210ms/step - loss: 1.8895 - accuracy: 0.7599 - val_loss: 1.2908 - val_accuracy: 0.6722\n",
      "Epoch 9/10\n",
      "750/750 [==============================] - 157s 210ms/step - loss: 1.8695 - accuracy: 0.7680 - val_loss: 1.4638 - val_accuracy: 0.6330\n",
      "Epoch 10/10\n",
      "750/750 [==============================] - 157s 210ms/step - loss: 1.8242 - accuracy: 0.7854 - val_loss: 1.2430 - val_accuracy: 0.6805\n"
     ]
    }
   ],
   "source": [
    "history_resnet50_aug_cutmix = aug_resnet50.fit(\n",
    "    ds_train_aug_cutmix, # augmentation + cutmix 적용한 데이터셋 사용\n",
    "    steps_per_epoch=int(ds_info.splits['train'].num_examples/16),\n",
    "    validation_steps=int(ds_info.splits['test'].num_examples/16),\n",
    "    epochs=EPOCH,\n",
    "    validation_data=ds_test,\n",
    "    verbose=1,\n",
    "    use_multiprocessing=True,\n",
    ")"
   ]
  },
  {
   "cell_type": "code",
   "execution_count": 12,
   "id": "8cd168b3",
   "metadata": {},
   "outputs": [
    {
     "name": "stdout",
     "output_type": "stream",
     "text": [
      "Epoch 1/10\n",
      "750/750 [==============================] - 162s 210ms/step - loss: 1.9948 - accuracy: 0.8033 - val_loss: 1.5337 - val_accuracy: 0.6360\n",
      "Epoch 2/10\n",
      "750/750 [==============================] - 157s 209ms/step - loss: 1.9471 - accuracy: 0.8110 - val_loss: 1.3697 - val_accuracy: 0.6600\n",
      "Epoch 3/10\n",
      "750/750 [==============================] - 157s 210ms/step - loss: 1.9218 - accuracy: 0.8217 - val_loss: 1.8122 - val_accuracy: 0.5784\n",
      "Epoch 4/10\n",
      "750/750 [==============================] - 157s 209ms/step - loss: 1.8603 - accuracy: 0.8269 - val_loss: 1.2596 - val_accuracy: 0.6844\n",
      "Epoch 5/10\n",
      "750/750 [==============================] - 171s 229ms/step - loss: 1.8469 - accuracy: 0.8359 - val_loss: 1.3912 - val_accuracy: 0.6651\n",
      "Epoch 6/10\n",
      "750/750 [==============================] - 157s 210ms/step - loss: 1.8576 - accuracy: 0.8337 - val_loss: 1.3138 - val_accuracy: 0.6826\n",
      "Epoch 7/10\n",
      "750/750 [==============================] - 157s 209ms/step - loss: 1.8142 - accuracy: 0.8353 - val_loss: 1.3796 - val_accuracy: 0.6671\n",
      "Epoch 8/10\n",
      "750/750 [==============================] - 157s 210ms/step - loss: 1.8070 - accuracy: 0.8403 - val_loss: 1.4552 - val_accuracy: 0.6494\n",
      "Epoch 9/10\n",
      "750/750 [==============================] - 157s 209ms/step - loss: 1.7987 - accuracy: 0.8445 - val_loss: 1.4915 - val_accuracy: 0.6355\n",
      "Epoch 10/10\n",
      "750/750 [==============================] - 157s 210ms/step - loss: 1.7897 - accuracy: 0.8476 - val_loss: 1.2499 - val_accuracy: 0.6922\n"
     ]
    }
   ],
   "source": [
    "history_resnet50_aug_mixup = aug_resnet50.fit(\n",
    "    ds_train_aug_mixup, # augmentation + mixup 적용한 데이터셋 사용\n",
    "    steps_per_epoch=int(ds_info.splits['train'].num_examples/16),\n",
    "    validation_steps=int(ds_info.splits['test'].num_examples/16),\n",
    "    epochs=EPOCH,\n",
    "    validation_data=ds_test,\n",
    "    verbose=1,\n",
    "    use_multiprocessing=True,\n",
    ")"
   ]
  },
  {
   "cell_type": "markdown",
   "id": "3b7b1922",
   "metadata": {},
   "source": [
    "### 4. 훈련 과정 시각화하기"
   ]
  },
  {
   "cell_type": "code",
   "execution_count": 16,
   "id": "caa96496",
   "metadata": {},
   "outputs": [
    {
     "data": {
      "image/png": "[encoded data removed]",
      "text/plain": [
       "<Figure size 432x288 with 1 Axes>"
      ]
     },
     "metadata": {
      "needs_background": "light"
     },
     "output_type": "display_data"
    }
   ],
   "source": [
    "plt.plot(history_resnet50_no_aug.history['val_accuracy'], 'r')\n",
    "plt.plot(history_resnet50_aug.history['val_accuracy'], 'b')\n",
    "plt.plot(history_resnet50_aug_cutmix.history['val_accuracy'], 'b--')\n",
    "plt.plot(history_resnet50_aug_mixup.history['val_accuracy'], 'b:')\n",
    "plt.title('Model validation accuracy')\n",
    "plt.ylabel('Accuracy')\n",
    "plt.xlabel('Epoch')\n",
    "plt.legend(['No Aug', 'w/ Aug','w/ Aug&Cutmix','w/ Aug&Mixup'], loc='lower right')\n",
    "plt.grid(True)\n",
    "# plt.ylim(0., 0.75) \n",
    "plt.show()"
   ]
  },
  {
   "cell_type": "code",
   "execution_count": 15,
   "id": "fc04f349",
   "metadata": {},
   "outputs": [
    {
     "data": {
      "image/png": "[encoded data removed]",
      "text/plain": [
       "<Figure size 432x288 with 1 Axes>"
      ]
     },
     "metadata": {
      "needs_background": "light"
     },
     "output_type": "display_data"
    }
   ],
   "source": [
    "plt.plot(history_resnet50_no_aug.history['val_loss'], 'r')\n",
    "plt.plot(history_resnet50_aug.history['val_loss'], 'b')\n",
    "plt.plot(history_resnet50_aug_cutmix.history['val_loss'], 'b--')\n",
    "plt.plot(history_resnet50_aug_mixup.history['val_loss'], 'b:')\n",
    "plt.title('Model validation loss')\n",
    "plt.ylabel('loss')\n",
    "plt.xlabel('Epoch')\n",
    "plt.legend(['No Aug', 'w/ Aug','w/ Aug&Cutmix','w/ Aug&Mixup'], loc='upper right')\n",
    "plt.grid(True)\n",
    "# plt.ylim(0.8, 2.) \n",
    "plt.show()"
   ]
  },
  {
   "cell_type": "markdown",
   "id": "b69592d0",
   "metadata": {},
   "source": [
    "### 5. Augmentation에 의한 모델 성능 비교\n",
    "* No Augmentation, 기본 Augmentation, 기본 + CutMix 적용, 기본 + Mixup 적용 이상 4가지 경우의 데이터셋에 대해 훈련된 ResNet50 분류기의 견종 분류 정확도 성능을 비교\n",
    "* Augmentation 방법들의 영향도에 대해 분석해 보세요."
   ]
  },
  {
   "cell_type": "markdown",
   "id": "a1f2126b",
   "metadata": {},
   "source": [
    "> epoch수가 충분하지 않아 확실한 정확도 성능 비교는 어려우며, 또한 Cutmix나 Mixup의 효용성이 나타나지 않은 상태입니다.     "
   ]
  },
  {
   "cell_type": "markdown",
   "id": "b297071f",
   "metadata": {},
   "source": [
    "> Augmentation의 일반적 특징은 아래와 같으며, **실험결과와 관련된 특이사항을 추가하였습니다.**\n",
    "\n",
    "1. 원본 데이터 (No Augmentation)\n",
    "    - 장점: 데이터가 그대로 사용되므로, 모델이 데이터의 자연스러운 특성을 배울 수 있습니다.\n",
    "    - 단점: 데이터가 충분하지 않을 경우 과적합(overfitting)이 발생할 가능성이 높습니다. 모델의 일반화 성능이 낮을 수 있습니다.\n",
    "2. 기본 증강 (좌우 반전, 밝기 조정)\n",
    "    - 장점: 간단한 증강 기법을 통해 데이터의 다양성을 높이고, 모델이 데이터의 다양한 변형에 잘 대응할 수 있게 합니다. 과적합을 방지하고 -일반화 성능을 향상시킬 수 있습니다.\n",
    "    - 단점: 증강 기법이 제한적이므로 데이터 다양성의 증가가 한정적일 수 있습니다.\n",
    "3. 기본 증강 + CutMix\n",
    "CutMix: 두 개의 이미지를 섞는 대신, 한 이미지의 일부를 잘라내어 다른 이미지에 붙이는 기법입니다.\n",
    "    - 장점: 모델이 객체의 일부분을 인식하는 데 강해집니다. 또한, CutMix는 학습 데이터를 더욱 다양하게 만들어 일반화 성능을 크게 향상시킬 수 있습니다.\n",
    "    - 단점: 이미지가 불규칙하게 변형되므로 학습 초기에는 모델이 적응하는 데 시간이 걸릴 수 있습니다.\n",
    "> epochs=10인 상태에서는 효과가 나타나지 않았습니다.\n",
    "4. 기본 증강 + MixUp\n",
    "MixUp: 두 개의 이미지를 선형으로 혼합하는 기법입니다.\n",
    "    - 장점: 모델이 두 이미지의 혼합된 정보를 학습하도록 유도하여, 모델이 데이터의 연속적인 변화를 더 잘 이해할 수 있게 합니다. 이로 인해 과적합이 줄어들고 일반화 성능이 향상됩니다.\n",
    "    - 단점: 이미지가 자연스럽지 않을 수 있으며, 원본 이미지의 의미가 왜곡될 수 있습니다\n",
    "> epochs=10인 상태에서는 효과가 나타나지 않았습니다."
   ]
  },
  {
   "cell_type": "markdown",
   "id": "b44f14c8",
   "metadata": {},
   "source": [
    "# 회고\n",
    "* resne50모델의 층이 깊어서 그런지, 모델 작동시간이 체감될 정도로 오래 걸렸다.\n",
    "* 작동시간이 오래 걸려서 epoch횟수 증대에 제한사항이 되었다.\n",
    "* Cutmix와 Mixup의 효과가 epochs=10에서는 나타나지 않았다."
   ]
  }
 ],
 "metadata": {
  "kernelspec": {
   "display_name": "Python 3 (ipykernel)",
   "language": "python",
   "name": "python3"
  },
  "language_info": {
   "codemirror_mode": {
    "name": "ipython",
    "version": 3
   },
   "file_extension": ".py",
   "mimetype": "text/x-python",
   "name": "python",
   "nbconvert_exporter": "python",
   "pygments_lexer": "ipython3",
   "version": "3.9.7"
  }
 },
 "nbformat": 4,
 "nbformat_minor": 5
}

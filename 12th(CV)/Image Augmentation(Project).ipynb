{
 "cells": [
  {
   "cell_type": "markdown",
   "id": "9f05f9ec",
   "metadata": {},
   "source": [
    "# Project"
   ]
  },
  {
   "cell_type": "code",
   "execution_count": 1,
   "id": "89f025fa",
   "metadata": {},
   "outputs": [],
   "source": [
    "# TensorFlow and tf.keras\n",
    "import tensorflow as tf\n",
    "from tensorflow import keras\n",
    "\n",
    "# Helper libraries\n",
    "import numpy as np\n",
    "import matplotlib.pyplot as plt\n",
    "\n",
    "import tensorflow_datasets as tfds"
   ]
  },
  {
   "cell_type": "markdown",
   "id": "b1210291",
   "metadata": {},
   "source": [
    "### 1. Augmentation을 적용한 데이터셋 만들기"
   ]
  },
  {
   "cell_type": "markdown",
   "id": "b0fc818b",
   "metadata": {},
   "source": [
    "* 아래는 CutMix를 적용할 수 있도록 변경한 apply_normalize_on_dataset()입니다.\n",
    "* 우리가 cutmix(), mixup()을 구현하면서 label의 mix 때문에 더이상 label이 스칼라값을 가지지 못하고 One-Hot 벡터 형태로 변환되었기 때문"
   ]
  },
  {
   "cell_type": "code",
   "execution_count": 2,
   "id": "fd9dcde6",
   "metadata": {},
   "outputs": [],
   "source": [
    "# get_clip_box 함수 정의 그대로 사용\n",
    "def get_clip_box(image_a, image_b):\n",
    "    image_size_x = image_a.shape[1]\n",
    "    image_size_y = image_a.shape[0]\n",
    "    \n",
    "    x = tf.cast(tf.random.uniform([], 0, image_size_x), tf.int32)\n",
    "    y = tf.cast(tf.random.uniform([], 0, image_size_y), tf.int32)\n",
    "\n",
    "    width = tf.cast(image_size_x * tf.math.sqrt(1 - tf.random.uniform([], 0, 1)), tf.int32)\n",
    "    height = tf.cast(image_size_y * tf.math.sqrt(1 - tf.random.uniform([], 0, 1)), tf.int32)\n",
    "    \n",
    "    x_min = tf.math.maximum(0, x - width // 2)\n",
    "    y_min = tf.math.maximum(0, y - height // 2)\n",
    "    x_max = tf.math.minimum(image_size_x, x + width // 2)\n",
    "    y_max = tf.math.minimum(image_size_y, y + height // 2)\n",
    "    \n",
    "    return x_min, y_min, x_max, y_max\n",
    "\n",
    "# mix_2_images 함수 정의 그대로 사용\n",
    "def mix_2_images(image_a, image_b, x_min, y_min, x_max, y_max):\n",
    "    image_size_x = image_a.shape[1]\n",
    "    image_size_y = image_a.shape[0]\n",
    "    middle_left = image_a[y_min:y_max, 0:x_min, :] \n",
    "    middle_center = image_b[y_min:y_max, x_min:x_max, :]  \n",
    "    middle_right = image_a[y_min:y_max, x_max:image_size_x, :] \n",
    "    middle = tf.concat([middle_left, middle_center, middle_right], axis=1)\n",
    "    top = image_a[0:y_min, :, :]\n",
    "    bottom = image_a[y_max:image_size_y, :, :]\n",
    "    mixed_img = tf.concat([top, middle, bottom], axis=0)\n",
    "    \n",
    "    return mixed_img\n",
    "\n",
    "# mix_2_labels 함수에서 image_a와 image_b 인자 추가\n",
    "def mix_2_labels(image_a, image_b, label_a, label_b, x_min, y_min, x_max, y_max, num_classes=120):\n",
    "    image_size_x = image_a.shape[1]\n",
    "    image_size_y = image_a.shape[0]\n",
    "    mixed_area = (x_max - x_min) * (y_max - y_min)\n",
    "    total_area = image_size_x * image_size_y\n",
    "    ratio = tf.cast(mixed_area / total_area, tf.float32)\n",
    "\n",
    "    if len(label_a.shape) == 0:\n",
    "        label_a = tf.one_hot(label_a, num_classes)\n",
    "    if len(label_b.shape) == 0:\n",
    "        label_b = tf.one_hot(label_b, num_classes)\n",
    "    mixed_label = (1 - ratio) * label_a + ratio * label_b\n",
    "    return mixed_label\n",
    "\n",
    "# cutmix 함수에서 num_classes를 인자로 받아 사용\n",
    "def cutmix(image, label, batch_size=16, img_size=224, num_classes=120):\n",
    "    mixed_imgs = []\n",
    "    mixed_labels = []\n",
    "\n",
    "    for i in range(batch_size):\n",
    "        image_a = image[i]\n",
    "        label_a = label[i]\n",
    "        j = tf.cast(tf.random.uniform([], 0, batch_size), tf.int32)\n",
    "        image_b = image[j]\n",
    "        label_b = label[j]\n",
    "        x_min, y_min, x_max, y_max = get_clip_box(image_a, image_b)\n",
    "        mixed_imgs.append(mix_2_images(image_a, image_b, x_min, y_min, x_max, y_max))\n",
    "        mixed_labels.append(mix_2_labels(image_a, image_b, label_a, label_b, x_min, y_min, x_max, y_max, num_classes))\n",
    "\n",
    "    mixed_imgs = tf.reshape(tf.stack(mixed_imgs), (batch_size, img_size, img_size, 3))\n",
    "    mixed_labels = tf.reshape(tf.stack(mixed_labels), (batch_size, num_classes))\n",
    "    return mixed_imgs, mixed_labels"
   ]
  },
  {
   "cell_type": "code",
   "execution_count": 3,
   "id": "2113e8f3",
   "metadata": {},
   "outputs": [],
   "source": [
    "# function for mixup\n",
    "def mixup_2_images(image_a, image_b, label_a, label_b):\n",
    "    ratio = tf.random.uniform([], 0, 1)\n",
    "    \n",
    "    if len(label_a.shape)==0:\n",
    "        label_a = tf.one_hot(label_a, num_classes)\n",
    "    if len(label_b.shape)==0:\n",
    "        label_b = tf.one_hot(label_b, num_classes)\n",
    "    mixed_image= (1-ratio)*image_a + ratio*image_b\n",
    "    mixed_label = (1-ratio)*label_a + ratio*label_b\n",
    "    \n",
    "    return mixed_image, mixed_label\n",
    "\n",
    "def mixup(image, label, prob=1.0, batch_size=16, img_size=224, num_classes=120):\n",
    "    mixed_imgs = []\n",
    "    mixed_labels = []\n",
    "\n",
    "    for i in range(batch_size):\n",
    "        image_a = image[i]\n",
    "        label_a = label[i]\n",
    "        j = tf.cast(tf.random.uniform([],0,batch_size), tf.int32)\n",
    "        image_b = image[j]\n",
    "        label_b = label[j]\n",
    "        mixed_img, mixed_label = mixup_2_images(image_a, image_b, label_a, label_b)\n",
    "        mixed_imgs.append(mixed_img)\n",
    "        mixed_labels.append(mixed_label)\n",
    "\n",
    "    mixed_imgs = tf.reshape(tf.stack(mixed_imgs), (batch_size, img_size, img_size, 3))\n",
    "    mixed_labels = tf.reshape(tf.stack(mixed_labels), (batch_size, num_classes))\n",
    "    return mixed_imgs, mixed_labels"
   ]
  },
  {
   "cell_type": "code",
   "execution_count": 4,
   "id": "12dd32cb",
   "metadata": {},
   "outputs": [],
   "source": [
    "def normalize_and_resize_img(image, label):\n",
    "    # Normalizes images: `uint8` -> `float32`\n",
    "    image = tf.image.resize(image, [224, 224])\n",
    "    return tf.cast(image, tf.float32) / 255., label\n",
    "\n",
    "def augment(image, label):\n",
    "    image = tf.image.random_flip_left_right(image)\n",
    "    image = tf.image.random_brightness(image, max_delta=0.2)\n",
    "    image = tf.clip_by_value(image, 0, 1)\n",
    "    return image, label\n",
    "\n",
    "def onehot(image, label):\n",
    "    label = tf.one_hot(label, num_classes)\n",
    "    return image, label\n",
    "\n",
    "def apply_normalize_on_dataset(ds, is_test=False, batch_size=16, \n",
    "                               with_aug=False, with_cutmix=False, with_mixup=False):\n",
    "    ds = ds.map(\n",
    "        normalize_and_resize_img, \n",
    "        num_parallel_calls=2\n",
    "    )\n",
    "    if not is_test and with_aug:\n",
    "        ds = ds.map(\n",
    "            augment\n",
    "        )\n",
    "    ds = ds.batch(batch_size)\n",
    "    if not is_test and with_cutmix:\n",
    "        ds = ds.map(\n",
    "            cutmix,\n",
    "            num_parallel_calls=2\n",
    "        )\n",
    "    elif not is_test and with_mixup:  # 변경된 부분\n",
    "        ds = ds.map(\n",
    "            mixup,\n",
    "            num_parallel_calls=2\n",
    "        )   \n",
    "    else:\n",
    "        ds = ds.map(\n",
    "            onehot,\n",
    "            num_parallel_calls=2\n",
    "        )\n",
    "    if not is_test:\n",
    "        ds = ds.repeat()\n",
    "        ds = ds.shuffle(200)\n",
    "    ds = ds.prefetch(tf.data.experimental.AUTOTUNE)\n",
    "    return ds"
   ]
  },
  {
   "cell_type": "code",
   "execution_count": 5,
   "id": "40910219",
   "metadata": {},
   "outputs": [
    {
     "name": "stdout",
     "output_type": "stream",
     "text": [
      "\u001b[1mDownloading and preparing dataset 778.12 MiB (download: 778.12 MiB, generated: Unknown size, total: 778.12 MiB) to /aiffel/tensorflow_datasets/stanford_dogs/0.2.0...\u001b[0m\n"
     ]
    },
    {
     "data": {
      "application/vnd.jupyter.widget-view+json": {
       "model_id": "c7be87c76ab34186a2c0f2ffda6ce619",
       "version_major": 2,
       "version_minor": 0
      },
      "text/plain": [
       "Dl Completed...: 0 url [00:00, ? url/s]"
      ]
     },
     "metadata": {},
     "output_type": "display_data"
    },
    {
     "data": {
      "application/vnd.jupyter.widget-view+json": {
       "model_id": "d789a37e11894aeebe8bfb9c4f77eac6",
       "version_major": 2,
       "version_minor": 0
      },
      "text/plain": [
       "Dl Size...: 0 MiB [00:00, ? MiB/s]"
      ]
     },
     "metadata": {},
     "output_type": "display_data"
    },
    {
     "data": {
      "application/vnd.jupyter.widget-view+json": {
       "model_id": "5f435977eb9547a295512c2e31ffc48c",
       "version_major": 2,
       "version_minor": 0
      },
      "text/plain": [
       "Dl Completed...: 0 url [00:00, ? url/s]"
      ]
     },
     "metadata": {},
     "output_type": "display_data"
    },
    {
     "data": {
      "application/vnd.jupyter.widget-view+json": {
       "model_id": "92712b909c5246b5a7290de5e4e19505",
       "version_major": 2,
       "version_minor": 0
      },
      "text/plain": [
       "Dl Size...: 0 MiB [00:00, ? MiB/s]"
      ]
     },
     "metadata": {},
     "output_type": "display_data"
    },
    {
     "data": {
      "application/vnd.jupyter.widget-view+json": {
       "model_id": "10b191e83e52440eb9a12b9c74269947",
       "version_major": 2,
       "version_minor": 0
      },
      "text/plain": [
       "Extraction completed...: 0 file [00:00, ? file/s]"
      ]
     },
     "metadata": {},
     "output_type": "display_data"
    },
    {
     "data": {
      "application/vnd.jupyter.widget-view+json": {
       "model_id": "",
       "version_major": 2,
       "version_minor": 0
      },
      "text/plain": [
       "Generating splits...:   0%|          | 0/2 [00:00<?, ? splits/s]"
      ]
     },
     "metadata": {},
     "output_type": "display_data"
    },
    {
     "data": {
      "application/vnd.jupyter.widget-view+json": {
       "model_id": "",
       "version_major": 2,
       "version_minor": 0
      },
      "text/plain": [
       "Generating train examples...:   0%|          | 0/12000 [00:00<?, ? examples/s]"
      ]
     },
     "metadata": {},
     "output_type": "display_data"
    },
    {
     "data": {
      "application/vnd.jupyter.widget-view+json": {
       "model_id": "",
       "version_major": 2,
       "version_minor": 0
      },
      "text/plain": [
       "Shuffling stanford_dogs-train.tfrecord...:   0%|          | 0/12000 [00:00<?, ? examples/s]"
      ]
     },
     "metadata": {},
     "output_type": "display_data"
    },
    {
     "data": {
      "application/vnd.jupyter.widget-view+json": {
       "model_id": "",
       "version_major": 2,
       "version_minor": 0
      },
      "text/plain": [
       "Generating test examples...:   0%|          | 0/8580 [00:00<?, ? examples/s]"
      ]
     },
     "metadata": {},
     "output_type": "display_data"
    },
    {
     "data": {
      "application/vnd.jupyter.widget-view+json": {
       "model_id": "",
       "version_major": 2,
       "version_minor": 0
      },
      "text/plain": [
       "Shuffling stanford_dogs-test.tfrecord...:   0%|          | 0/8580 [00:00<?, ? examples/s]"
      ]
     },
     "metadata": {},
     "output_type": "display_data"
    },
    {
     "name": "stdout",
     "output_type": "stream",
     "text": [
      "\u001b[1mDataset stanford_dogs downloaded and prepared to /aiffel/tensorflow_datasets/stanford_dogs/0.2.0. Subsequent calls will reuse this data.\u001b[0m\n"
     ]
    }
   ],
   "source": [
    "(ds_train, ds_test), ds_info = tfds.load(\n",
    "    'stanford_dogs',\n",
    "    split=['train', 'test'],\n",
    "    as_supervised=True,\n",
    "    shuffle_files=True,\n",
    "    with_info=True,\n",
    ")\n",
    "\n",
    "num_classes = ds_info.features[\"label\"].num_classes\n",
    "\n",
    "ds_train_no_aug = apply_normalize_on_dataset(ds_train, with_aug=False)\n",
    "ds_train_aug= apply_normalize_on_dataset(ds_train, with_aug=True)\n",
    "ds_train_aug_cutmix = apply_normalize_on_dataset(ds_train, with_aug=True, with_cutmix=True) # 변경된 부분\n",
    "ds_train_aug_mixup = apply_normalize_on_dataset(ds_train, with_aug=True, with_mixup=True) # 변경된 부분\n",
    "ds_test = apply_normalize_on_dataset(ds_test, is_test=True)"
   ]
  },
  {
   "cell_type": "markdown",
   "id": "f78a943e",
   "metadata": {},
   "source": [
    "### 2. 모델 만들기\n",
    "* 앞서 만들었던 것처럼 비교 실험을 위한 모델 두 개를 만들어 주세요. 모델은 ResNet-50을 사용합시다."
   ]
  },
  {
   "cell_type": "code",
   "execution_count": 6,
   "id": "d7982e87",
   "metadata": {},
   "outputs": [
    {
     "name": "stdout",
     "output_type": "stream",
     "text": [
      "Downloading data from https://storage.googleapis.com/tensorflow/keras-applications/resnet/resnet50_weights_tf_dim_ordering_tf_kernels_notop.h5\n",
      "94773248/94765736 [==============================] - 0s 0us/step\n",
      "94781440/94765736 [==============================] - 0s 0us/step\n",
      "=3\n"
     ]
    }
   ],
   "source": [
    "# num_classes = ds_info.features[\"label\"].num_classes\n",
    "resnet50 = keras.models.Sequential([\n",
    "    keras.applications.resnet.ResNet50(\n",
    "        include_top=False,\n",
    "        weights='imagenet',\n",
    "        input_shape=(224,224,3),\n",
    "        pooling='avg',\n",
    "    ),\n",
    "    keras.layers.Dense(num_classes, activation='softmax')\n",
    "])\n",
    "print('=3')"
   ]
  },
  {
   "cell_type": "code",
   "execution_count": 7,
   "id": "8efb8471",
   "metadata": {},
   "outputs": [
    {
     "name": "stdout",
     "output_type": "stream",
     "text": [
      "=3\n"
     ]
    }
   ],
   "source": [
    "aug_resnet50 = keras.models.Sequential([\n",
    "    keras.applications.resnet.ResNet50(\n",
    "        include_top=False,\n",
    "        weights='imagenet',\n",
    "        input_shape=(224,224,3),\n",
    "        pooling='avg',\n",
    "    ),\n",
    "    keras.layers.Dense(num_classes, activation='softmax')\n",
    "])\n",
    "print('=3')"
   ]
  },
  {
   "cell_type": "markdown",
   "id": "2753bd5e",
   "metadata": {},
   "source": [
    "### 3. 모델 훈련하기\n",
    "* sparse_categorical_crossentropy() 대신 categorical_crossentropy()를 사용해 주세요!"
   ]
  },
  {
   "cell_type": "code",
   "execution_count": 35,
   "id": "d124488b",
   "metadata": {},
   "outputs": [
    {
     "name": "stdout",
     "output_type": "stream",
     "text": [
      "Epoch 1/5\n",
      "750/750 [==============================] - 164s 209ms/step - loss: 0.0240 - accuracy: 0.9992 - val_loss: 0.9266 - val_accuracy: 0.7416\n",
      "Epoch 2/5\n",
      "750/750 [==============================] - 156s 208ms/step - loss: 0.0164 - accuracy: 0.9992 - val_loss: 0.9347 - val_accuracy: 0.7435\n",
      "Epoch 3/5\n",
      "750/750 [==============================] - 156s 208ms/step - loss: 0.0132 - accuracy: 0.9995 - val_loss: 0.9466 - val_accuracy: 0.7445\n",
      "Epoch 4/5\n",
      "750/750 [==============================] - 156s 208ms/step - loss: 0.0099 - accuracy: 0.9996 - val_loss: 0.9561 - val_accuracy: 0.7430\n",
      "Epoch 5/5\n",
      "750/750 [==============================] - 156s 208ms/step - loss: 0.0076 - accuracy: 0.9999 - val_loss: 0.9628 - val_accuracy: 0.7436\n"
     ]
    }
   ],
   "source": [
    "#EPOCH = 20  # Augentation 적용 효과를 확인하기 위해 필요한 epoch 수\n",
    "EPOCH = 5\n",
    "\n",
    "resnet50.compile(\n",
    "    loss='categorical_crossentropy', # 'categorical_crossentropy'로 변경\n",
    "    optimizer=tf.keras.optimizers.SGD(learning_rate=0.01),\n",
    "    metrics=['accuracy'],\n",
    ")\n",
    "\n",
    "history_resnet50_no_aug = resnet50.fit(\n",
    "    ds_train_no_aug, # augmentation 적용하지 않은 데이터셋 사용\n",
    "    steps_per_epoch=int(ds_info.splits['train'].num_examples/16),\n",
    "    validation_steps=int(ds_info.splits['test'].num_examples/16),\n",
    "    epochs=EPOCH,\n",
    "    validation_data=ds_test,\n",
    "    verbose=1,\n",
    "    use_multiprocessing=True,\n",
    ")"
   ]
  },
  {
   "cell_type": "code",
   "execution_count": 9,
   "id": "5945f73c",
   "metadata": {},
   "outputs": [],
   "source": [
    "aug_resnet50.compile(\n",
    "    loss='categorical_crossentropy', # 'categorical_crossentropy'로 변경\n",
    "    optimizer=tf.keras.optimizers.SGD(learning_rate=0.01),\n",
    "    metrics=['accuracy'],\n",
    ")"
   ]
  },
  {
   "cell_type": "code",
   "execution_count": 37,
   "id": "58f8d4eb",
   "metadata": {},
   "outputs": [
    {
     "name": "stdout",
     "output_type": "stream",
     "text": [
      "Epoch 1/5\n",
      "750/750 [==============================] - 159s 208ms/step - loss: 0.1165 - accuracy: 0.9826 - val_loss: 0.8713 - val_accuracy: 0.7490\n",
      "Epoch 2/5\n",
      "750/750 [==============================] - 156s 208ms/step - loss: 0.0516 - accuracy: 0.9938 - val_loss: 0.8577 - val_accuracy: 0.7592\n",
      "Epoch 3/5\n",
      "750/750 [==============================] - 156s 208ms/step - loss: 0.0314 - accuracy: 0.9971 - val_loss: 0.8585 - val_accuracy: 0.7601\n",
      "Epoch 4/5\n",
      "750/750 [==============================] - 156s 208ms/step - loss: 0.0272 - accuracy: 0.9975 - val_loss: 0.8645 - val_accuracy: 0.7583\n",
      "Epoch 5/5\n",
      "750/750 [==============================] - 156s 208ms/step - loss: 0.0162 - accuracy: 0.9990 - val_loss: 0.8576 - val_accuracy: 0.7638\n"
     ]
    }
   ],
   "source": [
    "history_resnet50_aug = aug_resnet50.fit(\n",
    "    ds_train_aug, # augmentation 적용한 데이터셋 사용\n",
    "    steps_per_epoch=int(ds_info.splits['train'].num_examples/16),\n",
    "    validation_steps=int(ds_info.splits['test'].num_examples/16),\n",
    "    epochs=EPOCH,\n",
    "    validation_data=ds_test,\n",
    "    verbose=1,\n",
    "    use_multiprocessing=True,\n",
    ")"
   ]
  },
  {
   "cell_type": "code",
   "execution_count": 38,
   "id": "de6e1d72",
   "metadata": {},
   "outputs": [
    {
     "name": "stdout",
     "output_type": "stream",
     "text": [
      "Epoch 1/5\n",
      "750/750 [==============================] - 163s 211ms/step - loss: 2.0611 - accuracy: 0.7299 - val_loss: 1.1295 - val_accuracy: 0.6978\n",
      "Epoch 2/5\n",
      "750/750 [==============================] - 157s 210ms/step - loss: 1.9975 - accuracy: 0.7389 - val_loss: 1.2893 - val_accuracy: 0.6688\n",
      "Epoch 3/5\n",
      "750/750 [==============================] - 158s 210ms/step - loss: 1.9368 - accuracy: 0.7499 - val_loss: 1.3172 - val_accuracy: 0.6637\n",
      "Epoch 4/5\n",
      "750/750 [==============================] - 161s 214ms/step - loss: 1.9020 - accuracy: 0.7594 - val_loss: 1.1991 - val_accuracy: 0.6964\n",
      "Epoch 5/5\n",
      "750/750 [==============================] - 159s 213ms/step - loss: 1.9073 - accuracy: 0.7580 - val_loss: 1.1429 - val_accuracy: 0.7091\n"
     ]
    }
   ],
   "source": [
    "history_resnet50_aug_cutmix = aug_resnet50.fit(\n",
    "    ds_train_aug_cutmix, # augmentation + cutmix 적용한 데이터셋 사용\n",
    "    steps_per_epoch=int(ds_info.splits['train'].num_examples/16),\n",
    "    validation_steps=int(ds_info.splits['test'].num_examples/16),\n",
    "    epochs=EPOCH,\n",
    "    validation_data=ds_test,\n",
    "    verbose=1,\n",
    "    use_multiprocessing=True,\n",
    ")"
   ]
  },
  {
   "cell_type": "code",
   "execution_count": 39,
   "id": "ba0260c8",
   "metadata": {},
   "outputs": [
    {
     "name": "stdout",
     "output_type": "stream",
     "text": [
      "Epoch 1/5\n",
      "750/750 [==============================] - 165s 210ms/step - loss: 1.9675 - accuracy: 0.8076 - val_loss: 1.3973 - val_accuracy: 0.6522\n",
      "Epoch 2/5\n",
      "750/750 [==============================] - 157s 210ms/step - loss: 1.9128 - accuracy: 0.8224 - val_loss: 1.4203 - val_accuracy: 0.6476\n",
      "Epoch 3/5\n",
      "750/750 [==============================] - 158s 210ms/step - loss: 1.8939 - accuracy: 0.8249 - val_loss: 1.3754 - val_accuracy: 0.6588\n",
      "Epoch 4/5\n",
      "750/750 [==============================] - 157s 210ms/step - loss: 1.8718 - accuracy: 0.8298 - val_loss: 1.2437 - val_accuracy: 0.6906\n",
      "Epoch 5/5\n",
      "750/750 [==============================] - 158s 211ms/step - loss: 1.8572 - accuracy: 0.8373 - val_loss: 1.2166 - val_accuracy: 0.6976\n"
     ]
    }
   ],
   "source": [
    "history_resnet50_aug_mixup = aug_resnet50.fit(\n",
    "    ds_train_aug_mixup, # augmentation + mixup 적용한 데이터셋 사용\n",
    "    steps_per_epoch=int(ds_info.splits['train'].num_examples/16),\n",
    "    validation_steps=int(ds_info.splits['test'].num_examples/16),\n",
    "    epochs=EPOCH,\n",
    "    validation_data=ds_test,\n",
    "    verbose=1,\n",
    "    use_multiprocessing=True,\n",
    ")"
   ]
  },
  {
   "cell_type": "markdown",
   "id": "c15cf74f",
   "metadata": {},
   "source": [
    "### 4. 훈련 과정 시각화하기"
   ]
  },
  {
   "cell_type": "code",
   "execution_count": 41,
   "id": "84879a30",
   "metadata": {},
   "outputs": [
    {
     "data": {
      "image/png": "[encoded data removed]",
      "text/plain": [
       "<Figure size 432x288 with 1 Axes>"
      ]
     },
     "metadata": {
      "needs_background": "light"
     },
     "output_type": "display_data"
    }
   ],
   "source": [
    "plt.plot(history_resnet50_no_aug.history['val_accuracy'], 'r')\n",
    "plt.plot(history_resnet50_aug.history['val_accuracy'], 'b')\n",
    "plt.plot(history_resnet50_aug_cutmix.history['val_accuracy'], 'b--')\n",
    "plt.plot(history_resnet50_aug_mixup.history['val_accuracy'], 'b:')\n",
    "plt.title('Model validation accuracy')\n",
    "plt.ylabel('Accuracy')\n",
    "plt.xlabel('Epoch')\n",
    "plt.legend(['No Aug', 'w/ Aug','w/ Aug&Cutmix','w/ Aug&Mixup'], loc='lower right')\n",
    "plt.grid(True)\n",
    "# plt.ylim(0., 0.75) \n",
    "plt.show()"
   ]
  },
  {
   "cell_type": "code",
   "execution_count": 43,
   "id": "b504a75b",
   "metadata": {},
   "outputs": [
    {
     "data": {
      "image/png": "[encoded data removed]",
      "text/plain": [
       "<Figure size 432x288 with 1 Axes>"
      ]
     },
     "metadata": {
      "needs_background": "light"
     },
     "output_type": "display_data"
    }
   ],
   "source": [
    "plt.plot(history_resnet50_no_aug.history['val_loss'], 'r')\n",
    "plt.plot(history_resnet50_aug.history['val_loss'], 'b')\n",
    "plt.plot(history_resnet50_aug_cutmix.history['val_loss'], 'b--')\n",
    "plt.plot(history_resnet50_aug_mixup.history['val_loss'], 'b:')\n",
    "plt.title('Model validation loss')\n",
    "plt.ylabel('Accuracy')\n",
    "plt.xlabel('Epoch')\n",
    "plt.legend(['No Aug', 'w/ Aug','w/ Aug&Cutmix','w/ Aug&Mixup'], loc='upper right')\n",
    "plt.grid(True)\n",
    "# plt.ylim(0.8, 2.) \n",
    "plt.show()"
   ]
  },
  {
   "cell_type": "markdown",
   "id": "34dea161",
   "metadata": {},
   "source": [
    "### 5. Augmentation에 의한 모델 성능 비교\n",
    "* No Augmentation, 기본 Augmentation, 기본 + CutMix 적용, 기본 + Mixup 적용 이상 4가지 경우의 데이터셋에 대해 훈련된 ResNet50 분류기의 견종 분류 정확도 성능을 비교\n",
    "* Augmentation 방법들의 영향도에 대해 분석해 보세요."
   ]
  },
  {
   "cell_type": "markdown",
   "id": "5c5818e1",
   "metadata": {},
   "source": [
    "> epoch수가 충분하지 않아 확실한 정확도 성능 비교는 어려운 상태입니다.하지만 '기본+Cutmix'의 초반 학습속도가 느린 것은 확인할 수 있었습니다."
   ]
  },
  {
   "cell_type": "markdown",
   "id": "c77cb61f",
   "metadata": {},
   "source": [
    "> Augmentation의 일반적 특징은 아래와 같으며, **실험결과와 관련된 특이사항을 추가하였습니다.**\n",
    "\n",
    "1. 원본 데이터 (No Augmentation)\n",
    "    - 장점: 데이터가 그대로 사용되므로, 모델이 데이터의 자연스러운 특성을 배울 수 있습니다.\n",
    "    - 단점: 데이터가 충분하지 않을 경우 과적합(overfitting)이 발생할 가능성이 높습니다. 모델의 일반화 성능이 낮을 수 있습니다.\n",
    "2. 기본 증강 (좌우 반전, 밝기 조정)\n",
    "    - 장점: 간단한 증강 기법을 통해 데이터의 다양성을 높이고, 모델이 데이터의 다양한 변형에 잘 대응할 수 있게 합니다. 과적합을 방지하고 -일반화 성능을 향상시킬 수 있습니다.\n",
    "    - 단점: 증강 기법이 제한적이므로 데이터 다양성의 증가가 한정적일 수 있습니다.\n",
    "3. 기본 증강 + CutMix\n",
    "CutMix: 두 개의 이미지를 섞는 대신, 한 이미지의 일부를 잘라내어 다른 이미지에 붙이는 기법입니다.\n",
    "    - 장점: 모델이 객체의 일부분을 인식하는 데 강해집니다. 또한, CutMix는 학습 데이터를 더욱 다양하게 만들어 일반화 성능을 크게 향상시킬 수 있습니다.\n",
    "    - 단점: 이미지가 불규칙하게 변형되므로 학습 초기에는 모델이 적응하는 데 시간이 걸릴 수 있습니다.\n",
    "> 실제로 학습과정의 속도가 느린 걸 확인할 수 있었다.    \n",
    "4. 기본 증강 + MixUp\n",
    "MixUp: 두 개의 이미지를 선형으로 혼합하는 기법입니다.\n",
    "    - 장점: 모델이 두 이미지의 혼합된 정보를 학습하도록 유도하여, 모델이 데이터의 연속적인 변화를 더 잘 이해할 수 있게 합니다. 이로 인해 과적합이 줄어들고 일반화 성능이 향상됩니다.\n",
    "    - 단점: 이미지가 자연스럽지 않을 수 있으며, 원본 이미지의 의미가 왜곡될 수 있습니다."
   ]
  },
  {
   "cell_type": "markdown",
   "id": "98fae4e1",
   "metadata": {},
   "source": [
    "# 회고\n",
    "* resne50모델의 층이 깊어서 그런지, 모델 작동시간이 체감될 정도로 오래 걸렸다.\n",
    "* 작동시간이 오래 걸려서 epoch횟수 증대에 제한사항이 되었다.\n",
    "* Cutmix와 Mixup이 초반에 서로 다른 양상을 보인 것은 예상 밖이었다."
   ]
  }
 ],
 "metadata": {
  "kernelspec": {
   "display_name": "Python 3 (ipykernel)",
   "language": "python",
   "name": "python3"
  },
  "language_info": {
   "codemirror_mode": {
    "name": "ipython",
    "version": 3
   },
   "file_extension": ".py",
   "mimetype": "text/x-python",
   "name": "python",
   "nbconvert_exporter": "python",
   "pygments_lexer": "ipython3",
   "version": "3.9.7"
  }
 },
 "nbformat": 4,
 "nbformat_minor": 5
}
